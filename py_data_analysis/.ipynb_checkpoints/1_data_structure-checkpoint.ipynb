{
 "cells": [
  {
   "cell_type": "markdown",
   "metadata": {},
   "source": [
    "# Python数据分析（二）：基本数据结构\n",
    "\n",
    "本讲主要介绍Python数据分析相关库提供的几个主要基本数据结构：numpy.array、pandas.Series、pandas.DataFrame，并简介基于这几个数据结构的编程基本思路。"
   ]
  },
  {
   "cell_type": "code",
   "execution_count": 1,
   "metadata": {
    "collapsed": true
   },
   "outputs": [],
   "source": [
    "import numpy as np\n",
    "import pandas as pd\n",
    "import matplotlib.pyplot as plt"
   ]
  },
  {
   "cell_type": "markdown",
   "metadata": {},
   "source": [
    "## numpy.array\n",
    "\n",
    "numpy.array是numpy的基本数据结构。简单地来说，这是一个类似于MATLAB数组的n维数组，在narray的基础上，numpy提供了一系列基于narray数组的处理和运算工具。"
   ]
  },
  {
   "cell_type": "markdown",
   "metadata": {},
   "source": [
    "### 创建narray"
   ]
  },
  {
   "cell_type": "code",
   "execution_count": 2,
   "metadata": {},
   "outputs": [
    {
     "data": {
      "text/plain": [
       "array([[1, 2, 3],\n",
       "       [4, 5, 6],\n",
       "       [7, 8, 9]])"
      ]
     },
     "execution_count": 2,
     "metadata": {},
     "output_type": "execute_result"
    }
   ],
   "source": [
    "# 用嵌套列表创建数组\n",
    "mylist = [[1,2,3],[4,5,6],[7,8,9]]\n",
    "myarray = np.array(mylist)\n",
    "myarray"
   ]
  },
  {
   "cell_type": "code",
   "execution_count": 3,
   "metadata": {},
   "outputs": [
    {
     "data": {
      "text/plain": [
       "array([[ 0.,  0.,  0.,  0.,  0.],\n",
       "       [ 0.,  0.,  0.,  0.,  0.],\n",
       "       [ 0.,  0.,  0.,  0.,  0.],\n",
       "       [ 0.,  0.,  0.,  0.,  0.]])"
      ]
     },
     "execution_count": 3,
     "metadata": {},
     "output_type": "execute_result"
    }
   ],
   "source": [
    "# 特殊数组\n",
    "np.zeros([4,5])"
   ]
  },
  {
   "cell_type": "code",
   "execution_count": 4,
   "metadata": {},
   "outputs": [
    {
     "data": {
      "text/plain": [
       "array([[[ 1.,  1.,  1.],\n",
       "        [ 1.,  1.,  1.],\n",
       "        [ 1.,  1.,  1.],\n",
       "        [ 1.,  1.,  1.]],\n",
       "\n",
       "       [[ 1.,  1.,  1.],\n",
       "        [ 1.,  1.,  1.],\n",
       "        [ 1.,  1.,  1.],\n",
       "        [ 1.,  1.,  1.]]])"
      ]
     },
     "execution_count": 4,
     "metadata": {},
     "output_type": "execute_result"
    }
   ],
   "source": [
    "np.ones([2,4,3])"
   ]
  },
  {
   "cell_type": "code",
   "execution_count": 6,
   "metadata": {},
   "outputs": [
    {
     "data": {
      "text/plain": [
       "array([ 0.,  0.,  0.,  0.,  0.])"
      ]
     },
     "execution_count": 6,
     "metadata": {},
     "output_type": "execute_result"
    }
   ],
   "source": [
    "np.empty(5)  # 只分配空间，不填充值"
   ]
  },
  {
   "cell_type": "code",
   "execution_count": 7,
   "metadata": {},
   "outputs": [
    {
     "data": {
      "text/plain": [
       "array([[ 1.,  0.,  0.,  0.,  0.],\n",
       "       [ 0.,  1.,  0.,  0.,  0.],\n",
       "       [ 0.,  0.,  1.,  0.,  0.],\n",
       "       [ 0.,  0.,  0.,  1.,  0.],\n",
       "       [ 0.,  0.,  0.,  0.,  1.]])"
      ]
     },
     "execution_count": 7,
     "metadata": {},
     "output_type": "execute_result"
    }
   ],
   "source": [
    "np.eye(5)"
   ]
  },
  {
   "cell_type": "code",
   "execution_count": 8,
   "metadata": {},
   "outputs": [
    {
     "data": {
      "text/plain": [
       "array([ 0,  1,  2,  3,  4,  5,  6,  7,  8,  9, 10, 11, 12, 13])"
      ]
     },
     "execution_count": 8,
     "metadata": {},
     "output_type": "execute_result"
    }
   ],
   "source": [
    "np.arange(14)"
   ]
  },
  {
   "cell_type": "markdown",
   "metadata": {},
   "source": [
    "### narray数据类型"
   ]
  },
  {
   "cell_type": "code",
   "execution_count": 9,
   "metadata": {},
   "outputs": [
    {
     "data": {
      "text/plain": [
       "dtype('int64')"
      ]
     },
     "execution_count": 9,
     "metadata": {},
     "output_type": "execute_result"
    }
   ],
   "source": [
    "myarray.dtype"
   ]
  },
  {
   "cell_type": "code",
   "execution_count": 10,
   "metadata": {},
   "outputs": [
    {
     "data": {
      "text/plain": [
       "dtype('int64')"
      ]
     },
     "execution_count": 10,
     "metadata": {},
     "output_type": "execute_result"
    }
   ],
   "source": [
    "myarray[0,0].dtype"
   ]
  },
  {
   "cell_type": "code",
   "execution_count": 11,
   "metadata": {},
   "outputs": [
    {
     "data": {
      "text/plain": [
       "numpy.int64"
      ]
     },
     "execution_count": 11,
     "metadata": {},
     "output_type": "execute_result"
    }
   ],
   "source": [
    "type(myarray[0,0])"
   ]
  },
  {
   "cell_type": "code",
   "execution_count": 12,
   "metadata": {
    "collapsed": true
   },
   "outputs": [],
   "source": [
    "myarray2 = np.array(mylist, dtype=np.float64)"
   ]
  },
  {
   "cell_type": "code",
   "execution_count": 13,
   "metadata": {},
   "outputs": [
    {
     "data": {
      "text/plain": [
       "dtype('float64')"
      ]
     },
     "execution_count": 13,
     "metadata": {},
     "output_type": "execute_result"
    }
   ],
   "source": [
    "myarray2.dtype"
   ]
  },
  {
   "cell_type": "code",
   "execution_count": 14,
   "metadata": {
    "collapsed": true
   },
   "outputs": [],
   "source": [
    "myarray3 = np.array(mylist, dtype=np.object) # np.object: Python对象类型"
   ]
  },
  {
   "cell_type": "code",
   "execution_count": 15,
   "metadata": {},
   "outputs": [
    {
     "data": {
      "text/plain": [
       "dtype('O')"
      ]
     },
     "execution_count": 15,
     "metadata": {},
     "output_type": "execute_result"
    }
   ],
   "source": [
    "myarray3.dtype"
   ]
  },
  {
   "cell_type": "code",
   "execution_count": 16,
   "metadata": {},
   "outputs": [
    {
     "data": {
      "text/plain": [
       "int"
      ]
     },
     "execution_count": 16,
     "metadata": {},
     "output_type": "execute_result"
    }
   ],
   "source": [
    "type(myarray3[0,0])"
   ]
  },
  {
   "cell_type": "markdown",
   "metadata": {},
   "source": [
    "### 索引和切片"
   ]
  },
  {
   "cell_type": "code",
   "execution_count": 17,
   "metadata": {},
   "outputs": [
    {
     "data": {
      "text/plain": [
       "array([1, 2, 3])"
      ]
     },
     "execution_count": 17,
     "metadata": {},
     "output_type": "execute_result"
    }
   ],
   "source": [
    "# 索引\n",
    "myarray[0]"
   ]
  },
  {
   "cell_type": "code",
   "execution_count": 19,
   "metadata": {},
   "outputs": [
    {
     "data": {
      "text/plain": [
       "2"
      ]
     },
     "execution_count": 19,
     "metadata": {},
     "output_type": "execute_result"
    }
   ],
   "source": [
    "myarray[0,1]"
   ]
  },
  {
   "cell_type": "code",
   "execution_count": 18,
   "metadata": {},
   "outputs": [
    {
     "data": {
      "text/plain": [
       "2"
      ]
     },
     "execution_count": 18,
     "metadata": {},
     "output_type": "execute_result"
    }
   ],
   "source": [
    "myarray[0][1]"
   ]
  },
  {
   "cell_type": "code",
   "execution_count": 20,
   "metadata": {},
   "outputs": [
    {
     "data": {
      "text/plain": [
       "array([[4, 5, 6]])"
      ]
     },
     "execution_count": 20,
     "metadata": {},
     "output_type": "execute_result"
    }
   ],
   "source": [
    "# 切片\n",
    "myarray[1:2]"
   ]
  },
  {
   "cell_type": "code",
   "execution_count": 21,
   "metadata": {},
   "outputs": [
    {
     "data": {
      "text/plain": [
       "array([[5]])"
      ]
     },
     "execution_count": 21,
     "metadata": {},
     "output_type": "execute_result"
    }
   ],
   "source": [
    "myarray[1:2,1:2]"
   ]
  },
  {
   "cell_type": "code",
   "execution_count": 22,
   "metadata": {},
   "outputs": [
    {
     "data": {
      "text/plain": [
       "array([[2],\n",
       "       [5],\n",
       "       [8]])"
      ]
     },
     "execution_count": 22,
     "metadata": {},
     "output_type": "execute_result"
    }
   ],
   "source": [
    "myarray[:,1:2]"
   ]
  },
  {
   "cell_type": "code",
   "execution_count": 23,
   "metadata": {},
   "outputs": [
    {
     "data": {
      "text/plain": [
       "array([6, 7, 8, 9])"
      ]
     },
     "execution_count": 23,
     "metadata": {},
     "output_type": "execute_result"
    }
   ],
   "source": [
    "# 布尔索引\n",
    "myarray[myarray>5]"
   ]
  },
  {
   "cell_type": "code",
   "execution_count": 24,
   "metadata": {},
   "outputs": [
    {
     "data": {
      "text/plain": [
       "array([[1, 1, 2, 1, 3],\n",
       "       [4, 4, 5, 4, 6],\n",
       "       [7, 7, 8, 7, 9]])"
      ]
     },
     "execution_count": 24,
     "metadata": {},
     "output_type": "execute_result"
    }
   ],
   "source": [
    "# 花式索引\n",
    "myarray[:,[0,0,1,0,2]]"
   ]
  },
  {
   "cell_type": "markdown",
   "metadata": {},
   "source": [
    "### 基本运算和通用函数"
   ]
  },
  {
   "cell_type": "code",
   "execution_count": 25,
   "metadata": {},
   "outputs": [
    {
     "data": {
      "text/plain": [
       "array([[ 3,  6,  9],\n",
       "       [12, 15, 18],\n",
       "       [21, 24, 27]])"
      ]
     },
     "execution_count": 25,
     "metadata": {},
     "output_type": "execute_result"
    }
   ],
   "source": [
    "# 数组与标量\n",
    "myarray*3"
   ]
  },
  {
   "cell_type": "code",
   "execution_count": 27,
   "metadata": {},
   "outputs": [
    {
     "data": {
      "text/plain": [
       "array([[ 0.33333333,  0.66666667,  1.        ],\n",
       "       [ 1.33333333,  1.66666667,  2.        ],\n",
       "       [ 2.33333333,  2.66666667,  3.        ]])"
      ]
     },
     "execution_count": 27,
     "metadata": {},
     "output_type": "execute_result"
    }
   ],
   "source": [
    "myarray/3."
   ]
  },
  {
   "cell_type": "code",
   "execution_count": 28,
   "metadata": {},
   "outputs": [
    {
     "data": {
      "text/plain": [
       "array([[ 3.        ,  1.5       ,  1.        ],\n",
       "       [ 0.75      ,  0.6       ,  0.5       ],\n",
       "       [ 0.42857143,  0.375     ,  0.33333333]])"
      ]
     },
     "execution_count": 28,
     "metadata": {},
     "output_type": "execute_result"
    }
   ],
   "source": [
    "3./myarray"
   ]
  },
  {
   "cell_type": "code",
   "execution_count": 29,
   "metadata": {},
   "outputs": [
    {
     "data": {
      "text/plain": [
       "array([[ 4,  5,  6],\n",
       "       [ 7,  8,  9],\n",
       "       [10, 11, 12]])"
      ]
     },
     "execution_count": 29,
     "metadata": {},
     "output_type": "execute_result"
    }
   ],
   "source": [
    "myarray+3"
   ]
  },
  {
   "cell_type": "code",
   "execution_count": 30,
   "metadata": {},
   "outputs": [
    {
     "data": {
      "text/plain": [
       "array([[-2, -1,  0],\n",
       "       [ 1,  2,  3],\n",
       "       [ 4,  5,  6]])"
      ]
     },
     "execution_count": 30,
     "metadata": {},
     "output_type": "execute_result"
    }
   ],
   "source": [
    "myarray-3"
   ]
  },
  {
   "cell_type": "code",
   "execution_count": 31,
   "metadata": {},
   "outputs": [
    {
     "data": {
      "text/plain": [
       "array([[ 1,  4,  9],\n",
       "       [16, 25, 36],\n",
       "       [49, 64, 81]])"
      ]
     },
     "execution_count": 31,
     "metadata": {},
     "output_type": "execute_result"
    }
   ],
   "source": [
    "myarray**2"
   ]
  },
  {
   "cell_type": "code",
   "execution_count": 32,
   "metadata": {},
   "outputs": [
    {
     "data": {
      "text/plain": [
       "array([[ 2,  4,  6],\n",
       "       [ 8, 10, 12],\n",
       "       [14, 16, 18]])"
      ]
     },
     "execution_count": 32,
     "metadata": {},
     "output_type": "execute_result"
    }
   ],
   "source": [
    "# 数组与数组\n",
    "myarray+myarray"
   ]
  },
  {
   "cell_type": "code",
   "execution_count": 33,
   "metadata": {},
   "outputs": [
    {
     "data": {
      "text/plain": [
       "array([[ 1,  4,  9],\n",
       "       [16, 25, 36],\n",
       "       [49, 64, 81]])"
      ]
     },
     "execution_count": 33,
     "metadata": {},
     "output_type": "execute_result"
    }
   ],
   "source": [
    "myarray*myarray"
   ]
  },
  {
   "cell_type": "code",
   "execution_count": 34,
   "metadata": {},
   "outputs": [
    {
     "data": {
      "text/plain": [
       "array([[        1,         4,        27],\n",
       "       [      256,      3125,     46656],\n",
       "       [   823543,  16777216, 387420489]])"
      ]
     },
     "execution_count": 34,
     "metadata": {},
     "output_type": "execute_result"
    }
   ],
   "source": [
    "myarray**myarray"
   ]
  },
  {
   "cell_type": "code",
   "execution_count": 35,
   "metadata": {},
   "outputs": [
    {
     "data": {
      "text/plain": [
       "5.0"
      ]
     },
     "execution_count": 35,
     "metadata": {},
     "output_type": "execute_result"
    }
   ],
   "source": [
    "# 通用函数\n",
    "np.mean(myarray)"
   ]
  },
  {
   "cell_type": "code",
   "execution_count": 36,
   "metadata": {},
   "outputs": [
    {
     "data": {
      "text/plain": [
       "5.0"
      ]
     },
     "execution_count": 36,
     "metadata": {},
     "output_type": "execute_result"
    }
   ],
   "source": [
    "# 等价的实例方法\n",
    "myarray.mean()"
   ]
  },
  {
   "cell_type": "markdown",
   "metadata": {},
   "source": [
    "常用的通用函数：\n",
    "- abs\n",
    "- sqrt\n",
    "- exp\n",
    "- log\n",
    "- sign"
   ]
  },
  {
   "cell_type": "markdown",
   "metadata": {},
   "source": [
    "### 排序"
   ]
  },
  {
   "cell_type": "code",
   "execution_count": 37,
   "metadata": {},
   "outputs": [
    {
     "data": {
      "text/plain": [
       "array([[4, 8],\n",
       "       [7, 3]])"
      ]
     },
     "execution_count": 37,
     "metadata": {},
     "output_type": "execute_result"
    }
   ],
   "source": [
    "myarray_new = np.array([[4,8],[7,3]])\n",
    "myarray_new"
   ]
  },
  {
   "cell_type": "code",
   "execution_count": 38,
   "metadata": {},
   "outputs": [
    {
     "data": {
      "text/plain": [
       "array([[4, 8],\n",
       "       [3, 7]])"
      ]
     },
     "execution_count": 38,
     "metadata": {},
     "output_type": "execute_result"
    }
   ],
   "source": [
    "myarray_new.sort()\n",
    "myarray_new"
   ]
  },
  {
   "cell_type": "markdown",
   "metadata": {},
   "source": [
    "### 随机数"
   ]
  },
  {
   "cell_type": "code",
   "execution_count": 39,
   "metadata": {},
   "outputs": [
    {
     "data": {
      "text/plain": [
       "array([[-0.58588278,  0.25429223,  0.67943064,  1.72624058, -0.87256767],\n",
       "       [ 0.06976233, -0.43575416, -0.47660296,  1.42710086, -0.03891215],\n",
       "       [ 0.57106525, -1.5387785 , -0.40382786, -0.62195885, -0.37355521],\n",
       "       [ 1.78452011,  0.64323167,  1.50397685, -0.79359365, -1.05193023]])"
      ]
     },
     "execution_count": 39,
     "metadata": {},
     "output_type": "execute_result"
    }
   ],
   "source": [
    "np.random.normal(size=(4,5))"
   ]
  },
  {
   "cell_type": "markdown",
   "metadata": {},
   "source": [
    "## pandas.Series"
   ]
  },
  {
   "cell_type": "markdown",
   "metadata": {},
   "source": [
    "### 创建Series"
   ]
  },
  {
   "cell_type": "code",
   "execution_count": 41,
   "metadata": {},
   "outputs": [
    {
     "data": {
      "text/plain": [
       "a    4\n",
       "b    5\n",
       "c    2\n",
       "d    5\n",
       "e    5\n",
       "dtype: int64"
      ]
     },
     "execution_count": 41,
     "metadata": {},
     "output_type": "execute_result"
    }
   ],
   "source": [
    "# 列表/数组\n",
    "series = pd.Series([4,5,2,5,5],index=['a','b','c','d','e'])\n",
    "series"
   ]
  },
  {
   "cell_type": "code",
   "execution_count": 42,
   "metadata": {},
   "outputs": [
    {
     "data": {
      "text/plain": [
       "a    4\n",
       "b    4\n",
       "c    4\n",
       "d    4\n",
       "e    4\n",
       "dtype: int64"
      ]
     },
     "execution_count": 42,
     "metadata": {},
     "output_type": "execute_result"
    }
   ],
   "source": [
    "# 标量\n",
    "series = pd.Series(4,index=['a','b','c','d','e'])\n",
    "series"
   ]
  },
  {
   "cell_type": "code",
   "execution_count": 43,
   "metadata": {},
   "outputs": [
    {
     "data": {
      "text/plain": [
       "a    4\n",
       "b    5\n",
       "c    2\n",
       "d    5\n",
       "e    5\n",
       "Name: name, dtype: int64"
      ]
     },
     "execution_count": 43,
     "metadata": {},
     "output_type": "execute_result"
    }
   ],
   "source": [
    "# 字典\n",
    "series = pd.Series({'a':4,'b':5,'c':2,'d':5,'e':5}, name='name')\n",
    "series"
   ]
  },
  {
   "cell_type": "markdown",
   "metadata": {},
   "source": [
    "### 基本属性"
   ]
  },
  {
   "cell_type": "code",
   "execution_count": 44,
   "metadata": {},
   "outputs": [
    {
     "data": {
      "text/plain": [
       "Index([u'a', u'b', u'c', u'd', u'e'], dtype='object')"
      ]
     },
     "execution_count": 44,
     "metadata": {},
     "output_type": "execute_result"
    }
   ],
   "source": [
    "# index\n",
    "series.index"
   ]
  },
  {
   "cell_type": "code",
   "execution_count": 45,
   "metadata": {},
   "outputs": [
    {
     "data": {
      "text/plain": [
       "0    4\n",
       "1    5\n",
       "2    2\n",
       "3    5\n",
       "4    5\n",
       "Name: name, dtype: int64"
      ]
     },
     "execution_count": 45,
     "metadata": {},
     "output_type": "execute_result"
    }
   ],
   "source": [
    "# 修改index\n",
    "series.index = range(5)\n",
    "series"
   ]
  },
  {
   "cell_type": "code",
   "execution_count": 46,
   "metadata": {},
   "outputs": [
    {
     "data": {
      "text/plain": [
       "0    4\n",
       "2    5\n",
       "4    2\n",
       "6    5\n",
       "8    5\n",
       "Name: name, dtype: int64"
      ]
     },
     "execution_count": 46,
     "metadata": {},
     "output_type": "execute_result"
    }
   ],
   "source": [
    "# 另一种修改index的方法\n",
    "series.rename(lambda x:x*2)"
   ]
  },
  {
   "cell_type": "code",
   "execution_count": 48,
   "metadata": {},
   "outputs": [
    {
     "data": {
      "text/plain": [
       "index\n",
       "0    4\n",
       "1    5\n",
       "2    2\n",
       "3    5\n",
       "4    5\n",
       "Name: name, dtype: int64"
      ]
     },
     "execution_count": 48,
     "metadata": {},
     "output_type": "execute_result"
    }
   ],
   "source": [
    "# index name\n",
    "series.index.name = 'index'\n",
    "series"
   ]
  },
  {
   "cell_type": "code",
   "execution_count": 49,
   "metadata": {},
   "outputs": [
    {
     "data": {
      "text/plain": [
       "index\n",
       "0    4\n",
       "1    5\n",
       "2    2\n",
       "3    5\n",
       "4    5\n",
       "Name: value, dtype: int64"
      ]
     },
     "execution_count": 49,
     "metadata": {},
     "output_type": "execute_result"
    }
   ],
   "source": [
    "# name\n",
    "series.name = 'value'\n",
    "series"
   ]
  },
  {
   "cell_type": "code",
   "execution_count": 50,
   "metadata": {},
   "outputs": [
    {
     "data": {
      "text/plain": [
       "index\n",
       "0    4\n",
       "1    5\n",
       "2    2\n",
       "3    5\n",
       "4    5\n",
       "Name: myvalue, dtype: int64"
      ]
     },
     "execution_count": 50,
     "metadata": {},
     "output_type": "execute_result"
    }
   ],
   "source": [
    "# 另一种修改列名的方法\n",
    "series.rename('myvalue')"
   ]
  },
  {
   "cell_type": "markdown",
   "metadata": {},
   "source": [
    "### 索引"
   ]
  },
  {
   "cell_type": "code",
   "execution_count": 53,
   "metadata": {},
   "outputs": [
    {
     "data": {
      "text/plain": [
       "2"
      ]
     },
     "execution_count": 53,
     "metadata": {},
     "output_type": "execute_result"
    }
   ],
   "source": [
    "# 特殊的一维narray\n",
    "series = pd.Series({'a':4,'b':5,'c':2,'d':5,'e':5}, name='name')\n",
    "series[2]"
   ]
  },
  {
   "cell_type": "code",
   "execution_count": 54,
   "metadata": {},
   "outputs": [
    {
     "data": {
      "text/plain": [
       "2"
      ]
     },
     "execution_count": 54,
     "metadata": {},
     "output_type": "execute_result"
    }
   ],
   "source": [
    "# 有序字典\n",
    "series['c']"
   ]
  },
  {
   "cell_type": "markdown",
   "metadata": {},
   "source": [
    "### 基本运算"
   ]
  },
  {
   "cell_type": "code",
   "execution_count": 55,
   "metadata": {},
   "outputs": [
    {
     "data": {
      "text/plain": [
       "count    5.00000\n",
       "mean     4.20000\n",
       "std      1.30384\n",
       "min      2.00000\n",
       "25%      4.00000\n",
       "50%      5.00000\n",
       "75%      5.00000\n",
       "max      5.00000\n",
       "Name: name, dtype: float64"
      ]
     },
     "execution_count": 55,
     "metadata": {},
     "output_type": "execute_result"
    }
   ],
   "source": [
    "# 描述\n",
    "series.describe()"
   ]
  },
  {
   "cell_type": "code",
   "execution_count": 56,
   "metadata": {},
   "outputs": [
    {
     "data": {
      "text/plain": [
       "21"
      ]
     },
     "execution_count": 56,
     "metadata": {},
     "output_type": "execute_result"
    }
   ],
   "source": [
    "# 同一维narray\n",
    "series.sum()"
   ]
  },
  {
   "cell_type": "code",
   "execution_count": 57,
   "metadata": {},
   "outputs": [
    {
     "data": {
      "text/plain": [
       "a     54.598150\n",
       "b    148.413159\n",
       "c      7.389056\n",
       "d    148.413159\n",
       "e    148.413159\n",
       "Name: name, dtype: float64"
      ]
     },
     "execution_count": 57,
     "metadata": {},
     "output_type": "execute_result"
    }
   ],
   "source": [
    "np.exp(series)"
   ]
  },
  {
   "cell_type": "markdown",
   "metadata": {},
   "source": [
    "### 基本函数"
   ]
  },
  {
   "cell_type": "code",
   "execution_count": 58,
   "metadata": {},
   "outputs": [
    {
     "data": {
      "text/plain": [
       "c    2\n",
       "a    4\n",
       "b    5\n",
       "d    5\n",
       "e    5\n",
       "Name: name, dtype: int64"
      ]
     },
     "execution_count": 58,
     "metadata": {},
     "output_type": "execute_result"
    }
   ],
   "source": [
    "# 排序\n",
    "# 升序\n",
    "series.sort_values()"
   ]
  },
  {
   "cell_type": "code",
   "execution_count": 59,
   "metadata": {},
   "outputs": [
    {
     "data": {
      "text/plain": [
       "e    5\n",
       "d    5\n",
       "b    5\n",
       "a    4\n",
       "c    2\n",
       "Name: name, dtype: int64"
      ]
     },
     "execution_count": 59,
     "metadata": {},
     "output_type": "execute_result"
    }
   ],
   "source": [
    "# 降序\n",
    "series.sort_values(ascending=False)"
   ]
  },
  {
   "cell_type": "code",
   "execution_count": 60,
   "metadata": {},
   "outputs": [
    {
     "data": {
      "text/plain": [
       "a    4\n",
       "b    5\n",
       "Name: name, dtype: int64"
      ]
     },
     "execution_count": 60,
     "metadata": {},
     "output_type": "execute_result"
    }
   ],
   "source": [
    "# 头\n",
    "series.head(2)"
   ]
  },
  {
   "cell_type": "code",
   "execution_count": 61,
   "metadata": {},
   "outputs": [
    {
     "data": {
      "text/plain": [
       "d    5\n",
       "e    5\n",
       "Name: name, dtype: int64"
      ]
     },
     "execution_count": 61,
     "metadata": {},
     "output_type": "execute_result"
    }
   ],
   "source": [
    "# 尾\n",
    "series.tail(2)"
   ]
  },
  {
   "cell_type": "code",
   "execution_count": 62,
   "metadata": {},
   "outputs": [
    {
     "data": {
      "text/plain": [
       "b    5\n",
       "d    5\n",
       "Name: name, dtype: int64"
      ]
     },
     "execution_count": 62,
     "metadata": {},
     "output_type": "execute_result"
    }
   ],
   "source": [
    "# sort+head\n",
    "series.nlargest(2)"
   ]
  },
  {
   "cell_type": "code",
   "execution_count": 63,
   "metadata": {},
   "outputs": [
    {
     "data": {
      "text/plain": [
       "c    2\n",
       "a    4\n",
       "b    5\n",
       "Name: name, dtype: int64"
      ]
     },
     "execution_count": 63,
     "metadata": {},
     "output_type": "execute_result"
    }
   ],
   "source": [
    "# sort+tail\n",
    "series.nsmallest(3)"
   ]
  },
  {
   "cell_type": "code",
   "execution_count": 64,
   "metadata": {},
   "outputs": [
    {
     "data": {
      "text/plain": [
       "a    8\n",
       "b    9\n",
       "c    6\n",
       "d    9\n",
       "e    9\n",
       "Name: name, dtype: int64"
      ]
     },
     "execution_count": 64,
     "metadata": {},
     "output_type": "execute_result"
    }
   ],
   "source": [
    "# apply方法\n",
    "series.apply(lambda x:x+4)"
   ]
  },
  {
   "cell_type": "markdown",
   "metadata": {},
   "source": [
    "## pandas.DataFrame\n",
    "\n",
    "DataFrame是Pandas的基本数据结构之一，是一个基于narray的特殊的二维数组，类似于R的data.frame、Excel的工作表或者SQL的表，DataFrame提供了一系列数据操作的方法和属性。"
   ]
  },
  {
   "cell_type": "markdown",
   "metadata": {},
   "source": [
    "### 创建DataFrame"
   ]
  },
  {
   "cell_type": "code",
   "execution_count": 65,
   "metadata": {},
   "outputs": [
    {
     "data": {
      "text/html": [
       "<div>\n",
       "<table border=\"1\" class=\"dataframe\">\n",
       "  <thead>\n",
       "    <tr style=\"text-align: right;\">\n",
       "      <th></th>\n",
       "      <th>one</th>\n",
       "      <th>two</th>\n",
       "    </tr>\n",
       "  </thead>\n",
       "  <tbody>\n",
       "    <tr>\n",
       "      <th>a</th>\n",
       "      <td>1</td>\n",
       "      <td>2</td>\n",
       "    </tr>\n",
       "    <tr>\n",
       "      <th>b</th>\n",
       "      <td>3</td>\n",
       "      <td>4</td>\n",
       "    </tr>\n",
       "  </tbody>\n",
       "</table>\n",
       "</div>"
      ],
      "text/plain": [
       "   one  two\n",
       "a    1    2\n",
       "b    3    4"
      ]
     },
     "execution_count": 65,
     "metadata": {},
     "output_type": "execute_result"
    }
   ],
   "source": [
    "# dict of dict\n",
    "data = {\n",
    "    'one':{'a':1,'b':3},\n",
    "    'two':{'a':2,'b':4}\n",
    "}\n",
    "pd.DataFrame(data)"
   ]
  },
  {
   "cell_type": "code",
   "execution_count": 66,
   "metadata": {},
   "outputs": [
    {
     "data": {
      "text/html": [
       "<div>\n",
       "<table border=\"1\" class=\"dataframe\">\n",
       "  <thead>\n",
       "    <tr style=\"text-align: right;\">\n",
       "      <th></th>\n",
       "      <th>one</th>\n",
       "      <th>two</th>\n",
       "    </tr>\n",
       "  </thead>\n",
       "  <tbody>\n",
       "    <tr>\n",
       "      <th>a</th>\n",
       "      <td>1</td>\n",
       "      <td>2</td>\n",
       "    </tr>\n",
       "    <tr>\n",
       "      <th>b</th>\n",
       "      <td>3</td>\n",
       "      <td>4</td>\n",
       "    </tr>\n",
       "  </tbody>\n",
       "</table>\n",
       "</div>"
      ],
      "text/plain": [
       "   one  two\n",
       "a    1    2\n",
       "b    3    4"
      ]
     },
     "execution_count": 66,
     "metadata": {},
     "output_type": "execute_result"
    }
   ],
   "source": [
    "# dict of list\n",
    "data = {\n",
    "    'one':[1,3],\n",
    "    'two':[2,4],\n",
    "}\n",
    "pd.DataFrame(data, index=['a','b'])"
   ]
  },
  {
   "cell_type": "code",
   "execution_count": 67,
   "metadata": {},
   "outputs": [
    {
     "data": {
      "text/html": [
       "<div>\n",
       "<table border=\"1\" class=\"dataframe\">\n",
       "  <thead>\n",
       "    <tr style=\"text-align: right;\">\n",
       "      <th></th>\n",
       "      <th>one</th>\n",
       "      <th>two</th>\n",
       "    </tr>\n",
       "  </thead>\n",
       "  <tbody>\n",
       "    <tr>\n",
       "      <th>a</th>\n",
       "      <td>1</td>\n",
       "      <td>2</td>\n",
       "    </tr>\n",
       "    <tr>\n",
       "      <th>b</th>\n",
       "      <td>3</td>\n",
       "      <td>4</td>\n",
       "    </tr>\n",
       "  </tbody>\n",
       "</table>\n",
       "</div>"
      ],
      "text/plain": [
       "   one  two\n",
       "a    1    2\n",
       "b    3    4"
      ]
     },
     "execution_count": 67,
     "metadata": {},
     "output_type": "execute_result"
    }
   ],
   "source": [
    "# record list/array\n",
    "data = [[1,2],[3,4]]\n",
    "pd.DataFrame(data, index=['a','b'], columns=['one','two'])"
   ]
  },
  {
   "cell_type": "code",
   "execution_count": 68,
   "metadata": {},
   "outputs": [
    {
     "data": {
      "text/html": [
       "<div>\n",
       "<table border=\"1\" class=\"dataframe\">\n",
       "  <thead>\n",
       "    <tr style=\"text-align: right;\">\n",
       "      <th></th>\n",
       "      <th>one</th>\n",
       "      <th>two</th>\n",
       "    </tr>\n",
       "  </thead>\n",
       "  <tbody>\n",
       "    <tr>\n",
       "      <th>a</th>\n",
       "      <td>1</td>\n",
       "      <td>2</td>\n",
       "    </tr>\n",
       "    <tr>\n",
       "      <th>b</th>\n",
       "      <td>3</td>\n",
       "      <td>4</td>\n",
       "    </tr>\n",
       "  </tbody>\n",
       "</table>\n",
       "</div>"
      ],
      "text/plain": [
       "   one  two\n",
       "a    1    2\n",
       "b    3    4"
      ]
     },
     "execution_count": 68,
     "metadata": {},
     "output_type": "execute_result"
    }
   ],
   "source": [
    "# list of dict\n",
    "data = [{'one':1,'two':2},{'one':3,'two':4}]\n",
    "pd.DataFrame(data, index=['a','b'])"
   ]
  },
  {
   "cell_type": "markdown",
   "metadata": {},
   "source": [
    "小结：dict在外，外层是列，里层每个单位是一列数据；list/array在外，外层是行，里层每个单位是一行数据"
   ]
  },
  {
   "cell_type": "markdown",
   "metadata": {},
   "source": [
    "### 基本属性"
   ]
  },
  {
   "cell_type": "code",
   "execution_count": 69,
   "metadata": {
    "collapsed": true
   },
   "outputs": [],
   "source": [
    "df = pd.read_csv('data/sample1.csv')"
   ]
  },
  {
   "cell_type": "code",
   "execution_count": 70,
   "metadata": {},
   "outputs": [
    {
     "data": {
      "text/plain": [
       "RangeIndex(start=0, stop=60, step=1)"
      ]
     },
     "execution_count": 70,
     "metadata": {},
     "output_type": "execute_result"
    }
   ],
   "source": [
    "# index\n",
    "df.index"
   ]
  },
  {
   "cell_type": "code",
   "execution_count": 71,
   "metadata": {},
   "outputs": [
    {
     "data": {
      "text/html": [
       "<div>\n",
       "<table border=\"1\" class=\"dataframe\">\n",
       "  <thead>\n",
       "    <tr style=\"text-align: right;\">\n",
       "      <th></th>\n",
       "      <th>goodsName</th>\n",
       "      <th>goodsURL</th>\n",
       "      <th>shopName</th>\n",
       "      <th>shopURL</th>\n",
       "      <th>monthly_sales</th>\n",
       "      <th>price</th>\n",
       "      <th>price_ave</th>\n",
       "      <th>comments</th>\n",
       "    </tr>\n",
       "    <tr>\n",
       "      <th>goodsID</th>\n",
       "      <th></th>\n",
       "      <th></th>\n",
       "      <th></th>\n",
       "      <th></th>\n",
       "      <th></th>\n",
       "      <th></th>\n",
       "      <th></th>\n",
       "      <th></th>\n",
       "    </tr>\n",
       "  </thead>\n",
       "  <tbody>\n",
       "    <tr>\n",
       "      <th>14985545685</th>\n",
       "      <td>【天猫超市】舒可曼纯正白砂糖400g碳化工艺细白糖干爽带盖易保存</td>\n",
       "      <td>http://detail.tmall.com/item.htm?id=1498554568...</td>\n",
       "      <td>天猫超市</td>\n",
       "      <td>http://store.taobao.com/search.htm?user_number...</td>\n",
       "      <td>42000</td>\n",
       "      <td>6.6</td>\n",
       "      <td>6.19元/500g</td>\n",
       "      <td>38000</td>\n",
       "    </tr>\n",
       "    <tr>\n",
       "      <th>44466463444</th>\n",
       "      <td>【巧厨烘焙 】展艺精制白砂糖 幼砂糖西点细砂糖 家用调味品 400g</td>\n",
       "      <td>http://detail.tmall.com/item.htm?id=4446646344...</td>\n",
       "      <td>巧厨食品专营店</td>\n",
       "      <td>http://store.taobao.com/search.htm?user_number...</td>\n",
       "      <td>25000</td>\n",
       "      <td>7.5</td>\n",
       "      <td>9.38元/500g</td>\n",
       "      <td>26000</td>\n",
       "    </tr>\n",
       "    <tr>\n",
       "      <th>15918515574</th>\n",
       "      <td>【天猫超市】舒可曼纯正白砂糖800g大包装碳化糖细白糖细砂幼砂糖</td>\n",
       "      <td>http://detail.tmall.com/item.htm?id=1591851557...</td>\n",
       "      <td>天猫超市</td>\n",
       "      <td>http://store.taobao.com/search.htm?user_number...</td>\n",
       "      <td>17000</td>\n",
       "      <td>12.5</td>\n",
       "      <td>7.82元/500g</td>\n",
       "      <td>11000</td>\n",
       "    </tr>\n",
       "    <tr>\n",
       "      <th>39863630205</th>\n",
       "      <td>【巧厨烘焙】太古糖白砂糖 细糖 细砂糖 纯正白砂糖 原装454克</td>\n",
       "      <td>http://detail.tmall.com/item.htm?id=3986363020...</td>\n",
       "      <td>巧厨食品专营店</td>\n",
       "      <td>http://store.taobao.com/search.htm?user_number...</td>\n",
       "      <td>9990</td>\n",
       "      <td>9.8</td>\n",
       "      <td>10.79元/500g</td>\n",
       "      <td>9867</td>\n",
       "    </tr>\n",
       "    <tr>\n",
       "      <th>43331131373</th>\n",
       "      <td>【天猫超市】舒可曼糖霜 250g特细糖粉 烘焙原料面包饼干蛋糕装饰</td>\n",
       "      <td>http://detail.tmall.com/item.htm?id=4333113137...</td>\n",
       "      <td>天猫超市</td>\n",
       "      <td>http://store.taobao.com/search.htm?user_number...</td>\n",
       "      <td>5966</td>\n",
       "      <td>12.0</td>\n",
       "      <td>24.00元/500g</td>\n",
       "      <td>3854</td>\n",
       "    </tr>\n",
       "  </tbody>\n",
       "</table>\n",
       "</div>"
      ],
      "text/plain": [
       "                                      goodsName  \\\n",
       "goodsID                                           \n",
       "14985545685    【天猫超市】舒可曼纯正白砂糖400g碳化工艺细白糖干爽带盖易保存   \n",
       "44466463444  【巧厨烘焙 】展艺精制白砂糖 幼砂糖西点细砂糖 家用调味品 400g   \n",
       "15918515574    【天猫超市】舒可曼纯正白砂糖800g大包装碳化糖细白糖细砂幼砂糖   \n",
       "39863630205    【巧厨烘焙】太古糖白砂糖 细糖 细砂糖 纯正白砂糖 原装454克   \n",
       "43331131373   【天猫超市】舒可曼糖霜 250g特细糖粉 烘焙原料面包饼干蛋糕装饰   \n",
       "\n",
       "                                                      goodsURL shopName  \\\n",
       "goodsID                                                                   \n",
       "14985545685  http://detail.tmall.com/item.htm?id=1498554568...     天猫超市   \n",
       "44466463444  http://detail.tmall.com/item.htm?id=4446646344...  巧厨食品专营店   \n",
       "15918515574  http://detail.tmall.com/item.htm?id=1591851557...     天猫超市   \n",
       "39863630205  http://detail.tmall.com/item.htm?id=3986363020...  巧厨食品专营店   \n",
       "43331131373  http://detail.tmall.com/item.htm?id=4333113137...     天猫超市   \n",
       "\n",
       "                                                       shopURL  monthly_sales  \\\n",
       "goodsID                                                                         \n",
       "14985545685  http://store.taobao.com/search.htm?user_number...          42000   \n",
       "44466463444  http://store.taobao.com/search.htm?user_number...          25000   \n",
       "15918515574  http://store.taobao.com/search.htm?user_number...          17000   \n",
       "39863630205  http://store.taobao.com/search.htm?user_number...           9990   \n",
       "43331131373  http://store.taobao.com/search.htm?user_number...           5966   \n",
       "\n",
       "             price    price_ave  comments  \n",
       "goodsID                                    \n",
       "14985545685    6.6   6.19元/500g     38000  \n",
       "44466463444    7.5   9.38元/500g     26000  \n",
       "15918515574   12.5   7.82元/500g     11000  \n",
       "39863630205    9.8  10.79元/500g      9867  \n",
       "43331131373   12.0  24.00元/500g      3854  "
      ]
     },
     "execution_count": 71,
     "metadata": {},
     "output_type": "execute_result"
    }
   ],
   "source": [
    "# 设置index\n",
    "df = df.set_index('goodsID')\n",
    "df.head()"
   ]
  },
  {
   "cell_type": "code",
   "execution_count": 72,
   "metadata": {},
   "outputs": [
    {
     "data": {
      "text/html": [
       "<div>\n",
       "<table border=\"1\" class=\"dataframe\">\n",
       "  <thead>\n",
       "    <tr style=\"text-align: right;\">\n",
       "      <th></th>\n",
       "      <th>goodsID</th>\n",
       "      <th>goodsName</th>\n",
       "      <th>goodsURL</th>\n",
       "      <th>shopName</th>\n",
       "      <th>shopURL</th>\n",
       "      <th>monthly_sales</th>\n",
       "      <th>price</th>\n",
       "      <th>price_ave</th>\n",
       "      <th>comments</th>\n",
       "    </tr>\n",
       "  </thead>\n",
       "  <tbody>\n",
       "    <tr>\n",
       "      <th>0</th>\n",
       "      <td>14985545685</td>\n",
       "      <td>【天猫超市】舒可曼纯正白砂糖400g碳化工艺细白糖干爽带盖易保存</td>\n",
       "      <td>http://detail.tmall.com/item.htm?id=1498554568...</td>\n",
       "      <td>天猫超市</td>\n",
       "      <td>http://store.taobao.com/search.htm?user_number...</td>\n",
       "      <td>42000</td>\n",
       "      <td>6.6</td>\n",
       "      <td>6.19元/500g</td>\n",
       "      <td>38000</td>\n",
       "    </tr>\n",
       "    <tr>\n",
       "      <th>1</th>\n",
       "      <td>44466463444</td>\n",
       "      <td>【巧厨烘焙 】展艺精制白砂糖 幼砂糖西点细砂糖 家用调味品 400g</td>\n",
       "      <td>http://detail.tmall.com/item.htm?id=4446646344...</td>\n",
       "      <td>巧厨食品专营店</td>\n",
       "      <td>http://store.taobao.com/search.htm?user_number...</td>\n",
       "      <td>25000</td>\n",
       "      <td>7.5</td>\n",
       "      <td>9.38元/500g</td>\n",
       "      <td>26000</td>\n",
       "    </tr>\n",
       "    <tr>\n",
       "      <th>2</th>\n",
       "      <td>15918515574</td>\n",
       "      <td>【天猫超市】舒可曼纯正白砂糖800g大包装碳化糖细白糖细砂幼砂糖</td>\n",
       "      <td>http://detail.tmall.com/item.htm?id=1591851557...</td>\n",
       "      <td>天猫超市</td>\n",
       "      <td>http://store.taobao.com/search.htm?user_number...</td>\n",
       "      <td>17000</td>\n",
       "      <td>12.5</td>\n",
       "      <td>7.82元/500g</td>\n",
       "      <td>11000</td>\n",
       "    </tr>\n",
       "    <tr>\n",
       "      <th>3</th>\n",
       "      <td>39863630205</td>\n",
       "      <td>【巧厨烘焙】太古糖白砂糖 细糖 细砂糖 纯正白砂糖 原装454克</td>\n",
       "      <td>http://detail.tmall.com/item.htm?id=3986363020...</td>\n",
       "      <td>巧厨食品专营店</td>\n",
       "      <td>http://store.taobao.com/search.htm?user_number...</td>\n",
       "      <td>9990</td>\n",
       "      <td>9.8</td>\n",
       "      <td>10.79元/500g</td>\n",
       "      <td>9867</td>\n",
       "    </tr>\n",
       "    <tr>\n",
       "      <th>4</th>\n",
       "      <td>43331131373</td>\n",
       "      <td>【天猫超市】舒可曼糖霜 250g特细糖粉 烘焙原料面包饼干蛋糕装饰</td>\n",
       "      <td>http://detail.tmall.com/item.htm?id=4333113137...</td>\n",
       "      <td>天猫超市</td>\n",
       "      <td>http://store.taobao.com/search.htm?user_number...</td>\n",
       "      <td>5966</td>\n",
       "      <td>12.0</td>\n",
       "      <td>24.00元/500g</td>\n",
       "      <td>3854</td>\n",
       "    </tr>\n",
       "  </tbody>\n",
       "</table>\n",
       "</div>"
      ],
      "text/plain": [
       "       goodsID                           goodsName  \\\n",
       "0  14985545685    【天猫超市】舒可曼纯正白砂糖400g碳化工艺细白糖干爽带盖易保存   \n",
       "1  44466463444  【巧厨烘焙 】展艺精制白砂糖 幼砂糖西点细砂糖 家用调味品 400g   \n",
       "2  15918515574    【天猫超市】舒可曼纯正白砂糖800g大包装碳化糖细白糖细砂幼砂糖   \n",
       "3  39863630205    【巧厨烘焙】太古糖白砂糖 细糖 细砂糖 纯正白砂糖 原装454克   \n",
       "4  43331131373   【天猫超市】舒可曼糖霜 250g特细糖粉 烘焙原料面包饼干蛋糕装饰   \n",
       "\n",
       "                                            goodsURL shopName  \\\n",
       "0  http://detail.tmall.com/item.htm?id=1498554568...     天猫超市   \n",
       "1  http://detail.tmall.com/item.htm?id=4446646344...  巧厨食品专营店   \n",
       "2  http://detail.tmall.com/item.htm?id=1591851557...     天猫超市   \n",
       "3  http://detail.tmall.com/item.htm?id=3986363020...  巧厨食品专营店   \n",
       "4  http://detail.tmall.com/item.htm?id=4333113137...     天猫超市   \n",
       "\n",
       "                                             shopURL  monthly_sales  price  \\\n",
       "0  http://store.taobao.com/search.htm?user_number...          42000    6.6   \n",
       "1  http://store.taobao.com/search.htm?user_number...          25000    7.5   \n",
       "2  http://store.taobao.com/search.htm?user_number...          17000   12.5   \n",
       "3  http://store.taobao.com/search.htm?user_number...           9990    9.8   \n",
       "4  http://store.taobao.com/search.htm?user_number...           5966   12.0   \n",
       "\n",
       "     price_ave  comments  \n",
       "0   6.19元/500g     38000  \n",
       "1   9.38元/500g     26000  \n",
       "2   7.82元/500g     11000  \n",
       "3  10.79元/500g      9867  \n",
       "4  24.00元/500g      3854  "
      ]
     },
     "execution_count": 72,
     "metadata": {},
     "output_type": "execute_result"
    }
   ],
   "source": [
    "df.reset_index().head()"
   ]
  },
  {
   "cell_type": "code",
   "execution_count": 73,
   "metadata": {},
   "outputs": [
    {
     "data": {
      "text/plain": [
       "Index([u'goodsName', u'goodsURL', u'shopName', u'shopURL', u'monthly_sales',\n",
       "       u'price', u'price_ave', u'comments'],\n",
       "      dtype='object')"
      ]
     },
     "execution_count": 73,
     "metadata": {},
     "output_type": "execute_result"
    }
   ],
   "source": [
    "# columns\n",
    "df.columns"
   ]
  },
  {
   "cell_type": "code",
   "execution_count": 74,
   "metadata": {},
   "outputs": [
    {
     "data": {
      "text/html": [
       "<div>\n",
       "<table border=\"1\" class=\"dataframe\">\n",
       "  <thead>\n",
       "    <tr style=\"text-align: right;\">\n",
       "      <th></th>\n",
       "      <th>0</th>\n",
       "      <th>1</th>\n",
       "      <th>2</th>\n",
       "      <th>3</th>\n",
       "      <th>4</th>\n",
       "      <th>5</th>\n",
       "      <th>6</th>\n",
       "      <th>7</th>\n",
       "      <th>8</th>\n",
       "    </tr>\n",
       "  </thead>\n",
       "  <tbody>\n",
       "    <tr>\n",
       "      <th>0</th>\n",
       "      <td>540395660668</td>\n",
       "      <td>【天猫超市】红棉食糖方糖454g/盒*2咖啡伴侣调糖白糖每盒120粒</td>\n",
       "      <td>http://detail.tmall.com/item.htm?id=5403956606...</td>\n",
       "      <td>天猫超市</td>\n",
       "      <td>http://store.taobao.com/search.htm?user_number...</td>\n",
       "      <td>250</td>\n",
       "      <td>19.2</td>\n",
       "      <td>13.77元/500g</td>\n",
       "      <td>39</td>\n",
       "    </tr>\n",
       "    <tr>\n",
       "      <th>1</th>\n",
       "      <td>520304659943</td>\n",
       "      <td>包邮买3送1 安琪百钻优级绵白糖 食用白糖 绵砂糖 烘焙调味 400g</td>\n",
       "      <td>http://detail.tmall.com/item.htm?id=5203046599...</td>\n",
       "      <td>嘉然食品专营店</td>\n",
       "      <td>http://store.taobao.com/search.htm?user_number...</td>\n",
       "      <td>250</td>\n",
       "      <td>7.3</td>\n",
       "      <td>9.13元/500g</td>\n",
       "      <td>262</td>\n",
       "    </tr>\n",
       "    <tr>\n",
       "      <th>2</th>\n",
       "      <td>520555206122</td>\n",
       "      <td>安琪百钻精幼砂糖 烘焙细砂糖白砂糖 冲饮食用白糖烘培原料400g</td>\n",
       "      <td>http://detail.tmall.com/item.htm?id=5205552061...</td>\n",
       "      <td>安琪酵母旗舰店</td>\n",
       "      <td>http://store.taobao.com/search.htm?user_number...</td>\n",
       "      <td>232</td>\n",
       "      <td>9.5</td>\n",
       "      <td>11.88元/500g</td>\n",
       "      <td>443</td>\n",
       "    </tr>\n",
       "    <tr>\n",
       "      <th>3</th>\n",
       "      <td>528043879271</td>\n",
       "      <td>烘焙原料 大卫贝克优质细砂糖 白砂糖食糖西点饼干用 幼砂糖400g</td>\n",
       "      <td>http://detail.tmall.com/item.htm?id=5280438792...</td>\n",
       "      <td>购美食品专营店</td>\n",
       "      <td>http://store.taobao.com/search.htm?user_number...</td>\n",
       "      <td>227</td>\n",
       "      <td>6.8</td>\n",
       "      <td>8.50元/500g</td>\n",
       "      <td>134</td>\n",
       "    </tr>\n",
       "    <tr>\n",
       "      <th>4</th>\n",
       "      <td>40141612623</td>\n",
       "      <td>烘焙原料 太古糖白砂糖 细砂糖幼砂糖 蛋糕面包饼干用 原装454g</td>\n",
       "      <td>http://detail.tmall.com/item.htm?id=4014161262...</td>\n",
       "      <td>范美焙亲食品专营店</td>\n",
       "      <td>http://store.taobao.com/search.htm?user_number...</td>\n",
       "      <td>224</td>\n",
       "      <td>8.0</td>\n",
       "      <td>8.81元/500g</td>\n",
       "      <td>548</td>\n",
       "    </tr>\n",
       "  </tbody>\n",
       "</table>\n",
       "</div>"
      ],
      "text/plain": [
       "              0                                    1  \\\n",
       "0  540395660668   【天猫超市】红棉食糖方糖454g/盒*2咖啡伴侣调糖白糖每盒120粒   \n",
       "1  520304659943  包邮买3送1 安琪百钻优级绵白糖 食用白糖 绵砂糖 烘焙调味 400g   \n",
       "2  520555206122     安琪百钻精幼砂糖 烘焙细砂糖白砂糖 冲饮食用白糖烘培原料400g   \n",
       "3  528043879271    烘焙原料 大卫贝克优质细砂糖 白砂糖食糖西点饼干用 幼砂糖400g   \n",
       "4   40141612623    烘焙原料 太古糖白砂糖 细砂糖幼砂糖 蛋糕面包饼干用 原装454g   \n",
       "\n",
       "                                                   2          3  \\\n",
       "0  http://detail.tmall.com/item.htm?id=5403956606...       天猫超市   \n",
       "1  http://detail.tmall.com/item.htm?id=5203046599...    嘉然食品专营店   \n",
       "2  http://detail.tmall.com/item.htm?id=5205552061...    安琪酵母旗舰店   \n",
       "3  http://detail.tmall.com/item.htm?id=5280438792...    购美食品专营店   \n",
       "4  http://detail.tmall.com/item.htm?id=4014161262...  范美焙亲食品专营店   \n",
       "\n",
       "                                                   4    5     6            7  \\\n",
       "0  http://store.taobao.com/search.htm?user_number...  250  19.2  13.77元/500g   \n",
       "1  http://store.taobao.com/search.htm?user_number...  250   7.3   9.13元/500g   \n",
       "2  http://store.taobao.com/search.htm?user_number...  232   9.5  11.88元/500g   \n",
       "3  http://store.taobao.com/search.htm?user_number...  227   6.8   8.50元/500g   \n",
       "4  http://store.taobao.com/search.htm?user_number...  224   8.0   8.81元/500g   \n",
       "\n",
       "     8  \n",
       "0   39  \n",
       "1  262  \n",
       "2  443  \n",
       "3  134  \n",
       "4  548  "
      ]
     },
     "execution_count": 74,
     "metadata": {},
     "output_type": "execute_result"
    }
   ],
   "source": [
    "# 修改columns\n",
    "df2 = pd.read_csv('data/sample2.csv')\n",
    "df2.columns = range(len(df2.columns))\n",
    "df2.head()"
   ]
  },
  {
   "cell_type": "code",
   "execution_count": 75,
   "metadata": {},
   "outputs": [
    {
     "data": {
      "text/html": [
       "<div>\n",
       "<table border=\"1\" class=\"dataframe\">\n",
       "  <thead>\n",
       "    <tr style=\"text-align: right;\">\n",
       "      <th></th>\n",
       "      <th>name</th>\n",
       "      <th>goodsURL</th>\n",
       "      <th>shopName</th>\n",
       "      <th>shopURL</th>\n",
       "      <th>monthly_sales</th>\n",
       "      <th>price</th>\n",
       "      <th>price_ave</th>\n",
       "      <th>comments</th>\n",
       "    </tr>\n",
       "    <tr>\n",
       "      <th>goodsID</th>\n",
       "      <th></th>\n",
       "      <th></th>\n",
       "      <th></th>\n",
       "      <th></th>\n",
       "      <th></th>\n",
       "      <th></th>\n",
       "      <th></th>\n",
       "      <th></th>\n",
       "    </tr>\n",
       "  </thead>\n",
       "  <tbody>\n",
       "    <tr>\n",
       "      <th>14985545685</th>\n",
       "      <td>【天猫超市】舒可曼纯正白砂糖400g碳化工艺细白糖干爽带盖易保存</td>\n",
       "      <td>http://detail.tmall.com/item.htm?id=1498554568...</td>\n",
       "      <td>天猫超市</td>\n",
       "      <td>http://store.taobao.com/search.htm?user_number...</td>\n",
       "      <td>42000</td>\n",
       "      <td>6.6</td>\n",
       "      <td>6.19元/500g</td>\n",
       "      <td>38000</td>\n",
       "    </tr>\n",
       "    <tr>\n",
       "      <th>44466463444</th>\n",
       "      <td>【巧厨烘焙 】展艺精制白砂糖 幼砂糖西点细砂糖 家用调味品 400g</td>\n",
       "      <td>http://detail.tmall.com/item.htm?id=4446646344...</td>\n",
       "      <td>巧厨食品专营店</td>\n",
       "      <td>http://store.taobao.com/search.htm?user_number...</td>\n",
       "      <td>25000</td>\n",
       "      <td>7.5</td>\n",
       "      <td>9.38元/500g</td>\n",
       "      <td>26000</td>\n",
       "    </tr>\n",
       "    <tr>\n",
       "      <th>15918515574</th>\n",
       "      <td>【天猫超市】舒可曼纯正白砂糖800g大包装碳化糖细白糖细砂幼砂糖</td>\n",
       "      <td>http://detail.tmall.com/item.htm?id=1591851557...</td>\n",
       "      <td>天猫超市</td>\n",
       "      <td>http://store.taobao.com/search.htm?user_number...</td>\n",
       "      <td>17000</td>\n",
       "      <td>12.5</td>\n",
       "      <td>7.82元/500g</td>\n",
       "      <td>11000</td>\n",
       "    </tr>\n",
       "    <tr>\n",
       "      <th>39863630205</th>\n",
       "      <td>【巧厨烘焙】太古糖白砂糖 细糖 细砂糖 纯正白砂糖 原装454克</td>\n",
       "      <td>http://detail.tmall.com/item.htm?id=3986363020...</td>\n",
       "      <td>巧厨食品专营店</td>\n",
       "      <td>http://store.taobao.com/search.htm?user_number...</td>\n",
       "      <td>9990</td>\n",
       "      <td>9.8</td>\n",
       "      <td>10.79元/500g</td>\n",
       "      <td>9867</td>\n",
       "    </tr>\n",
       "    <tr>\n",
       "      <th>43331131373</th>\n",
       "      <td>【天猫超市】舒可曼糖霜 250g特细糖粉 烘焙原料面包饼干蛋糕装饰</td>\n",
       "      <td>http://detail.tmall.com/item.htm?id=4333113137...</td>\n",
       "      <td>天猫超市</td>\n",
       "      <td>http://store.taobao.com/search.htm?user_number...</td>\n",
       "      <td>5966</td>\n",
       "      <td>12.0</td>\n",
       "      <td>24.00元/500g</td>\n",
       "      <td>3854</td>\n",
       "    </tr>\n",
       "  </tbody>\n",
       "</table>\n",
       "</div>"
      ],
      "text/plain": [
       "                                           name  \\\n",
       "goodsID                                           \n",
       "14985545685    【天猫超市】舒可曼纯正白砂糖400g碳化工艺细白糖干爽带盖易保存   \n",
       "44466463444  【巧厨烘焙 】展艺精制白砂糖 幼砂糖西点细砂糖 家用调味品 400g   \n",
       "15918515574    【天猫超市】舒可曼纯正白砂糖800g大包装碳化糖细白糖细砂幼砂糖   \n",
       "39863630205    【巧厨烘焙】太古糖白砂糖 细糖 细砂糖 纯正白砂糖 原装454克   \n",
       "43331131373   【天猫超市】舒可曼糖霜 250g特细糖粉 烘焙原料面包饼干蛋糕装饰   \n",
       "\n",
       "                                                      goodsURL shopName  \\\n",
       "goodsID                                                                   \n",
       "14985545685  http://detail.tmall.com/item.htm?id=1498554568...     天猫超市   \n",
       "44466463444  http://detail.tmall.com/item.htm?id=4446646344...  巧厨食品专营店   \n",
       "15918515574  http://detail.tmall.com/item.htm?id=1591851557...     天猫超市   \n",
       "39863630205  http://detail.tmall.com/item.htm?id=3986363020...  巧厨食品专营店   \n",
       "43331131373  http://detail.tmall.com/item.htm?id=4333113137...     天猫超市   \n",
       "\n",
       "                                                       shopURL  monthly_sales  \\\n",
       "goodsID                                                                         \n",
       "14985545685  http://store.taobao.com/search.htm?user_number...          42000   \n",
       "44466463444  http://store.taobao.com/search.htm?user_number...          25000   \n",
       "15918515574  http://store.taobao.com/search.htm?user_number...          17000   \n",
       "39863630205  http://store.taobao.com/search.htm?user_number...           9990   \n",
       "43331131373  http://store.taobao.com/search.htm?user_number...           5966   \n",
       "\n",
       "             price    price_ave  comments  \n",
       "goodsID                                    \n",
       "14985545685    6.6   6.19元/500g     38000  \n",
       "44466463444    7.5   9.38元/500g     26000  \n",
       "15918515574   12.5   7.82元/500g     11000  \n",
       "39863630205    9.8  10.79元/500g      9867  \n",
       "43331131373   12.0  24.00元/500g      3854  "
      ]
     },
     "execution_count": 75,
     "metadata": {},
     "output_type": "execute_result"
    }
   ],
   "source": [
    "df.rename(columns = {'goodsName':'name'}).head()"
   ]
  },
  {
   "cell_type": "markdown",
   "metadata": {},
   "source": [
    "### 索引"
   ]
  },
  {
   "cell_type": "code",
   "execution_count": 76,
   "metadata": {},
   "outputs": [
    {
     "data": {
      "text/plain": [
       "goodsID\n",
       "14985545685     6.6\n",
       "44466463444     7.5\n",
       "15918515574    12.5\n",
       "39863630205     9.8\n",
       "43331131373    12.0\n",
       "Name: price, dtype: float64"
      ]
     },
     "execution_count": 76,
     "metadata": {},
     "output_type": "execute_result"
    }
   ],
   "source": [
    "# 列索引\n",
    "df['price'].head()"
   ]
  },
  {
   "cell_type": "code",
   "execution_count": 77,
   "metadata": {},
   "outputs": [
    {
     "data": {
      "text/html": [
       "<div>\n",
       "<table border=\"1\" class=\"dataframe\">\n",
       "  <thead>\n",
       "    <tr style=\"text-align: right;\">\n",
       "      <th></th>\n",
       "      <th>price</th>\n",
       "      <th>monthly_sales</th>\n",
       "    </tr>\n",
       "    <tr>\n",
       "      <th>goodsID</th>\n",
       "      <th></th>\n",
       "      <th></th>\n",
       "    </tr>\n",
       "  </thead>\n",
       "  <tbody>\n",
       "    <tr>\n",
       "      <th>14985545685</th>\n",
       "      <td>6.6</td>\n",
       "      <td>42000</td>\n",
       "    </tr>\n",
       "    <tr>\n",
       "      <th>44466463444</th>\n",
       "      <td>7.5</td>\n",
       "      <td>25000</td>\n",
       "    </tr>\n",
       "    <tr>\n",
       "      <th>15918515574</th>\n",
       "      <td>12.5</td>\n",
       "      <td>17000</td>\n",
       "    </tr>\n",
       "    <tr>\n",
       "      <th>39863630205</th>\n",
       "      <td>9.8</td>\n",
       "      <td>9990</td>\n",
       "    </tr>\n",
       "    <tr>\n",
       "      <th>43331131373</th>\n",
       "      <td>12.0</td>\n",
       "      <td>5966</td>\n",
       "    </tr>\n",
       "  </tbody>\n",
       "</table>\n",
       "</div>"
      ],
      "text/plain": [
       "             price  monthly_sales\n",
       "goodsID                          \n",
       "14985545685    6.6          42000\n",
       "44466463444    7.5          25000\n",
       "15918515574   12.5          17000\n",
       "39863630205    9.8           9990\n",
       "43331131373   12.0           5966"
      ]
     },
     "execution_count": 77,
     "metadata": {},
     "output_type": "execute_result"
    }
   ],
   "source": [
    "df[['price','monthly_sales']].head()"
   ]
  },
  {
   "cell_type": "code",
   "execution_count": 78,
   "metadata": {},
   "outputs": [
    {
     "data": {
      "text/plain": [
       "goodsName                       【巧厨烘焙 】展艺精制白砂糖 幼砂糖西点细砂糖 家用调味品 400g\n",
       "goodsURL         http://detail.tmall.com/item.htm?id=4446646344...\n",
       "shopName                                                   巧厨食品专营店\n",
       "shopURL          http://store.taobao.com/search.htm?user_number...\n",
       "monthly_sales                                                25000\n",
       "price                                                          7.5\n",
       "price_ave                                               9.38元/500g\n",
       "comments                                                     26000\n",
       "Name: 44466463444, dtype: object"
      ]
     },
     "execution_count": 78,
     "metadata": {},
     "output_type": "execute_result"
    }
   ],
   "source": [
    "# 按编号的行索引\n",
    "df.iloc[1]"
   ]
  },
  {
   "cell_type": "code",
   "execution_count": 79,
   "metadata": {},
   "outputs": [
    {
     "data": {
      "text/plain": [
       "goodsName                       【巧厨烘焙 】展艺精制白砂糖 幼砂糖西点细砂糖 家用调味品 400g\n",
       "goodsURL         http://detail.tmall.com/item.htm?id=4446646344...\n",
       "shopName                                                   巧厨食品专营店\n",
       "shopURL          http://store.taobao.com/search.htm?user_number...\n",
       "monthly_sales                                                25000\n",
       "price                                                          7.5\n",
       "price_ave                                               9.38元/500g\n",
       "comments                                                     26000\n",
       "Name: 44466463444, dtype: object"
      ]
     },
     "execution_count": 79,
     "metadata": {},
     "output_type": "execute_result"
    }
   ],
   "source": [
    "# 按index的行索引\n",
    "df.loc[44466463444]"
   ]
  },
  {
   "cell_type": "code",
   "execution_count": 80,
   "metadata": {},
   "outputs": [
    {
     "data": {
      "text/plain": [
       "7.5"
      ]
     },
     "execution_count": 80,
     "metadata": {},
     "output_type": "execute_result"
    }
   ],
   "source": [
    "# 元素索引\n",
    "df.loc[44466463444,'price']"
   ]
  },
  {
   "cell_type": "code",
   "execution_count": 81,
   "metadata": {},
   "outputs": [
    {
     "data": {
      "text/html": [
       "<div>\n",
       "<table border=\"1\" class=\"dataframe\">\n",
       "  <thead>\n",
       "    <tr style=\"text-align: right;\">\n",
       "      <th></th>\n",
       "      <th>goodsName</th>\n",
       "      <th>goodsURL</th>\n",
       "      <th>shopName</th>\n",
       "      <th>shopURL</th>\n",
       "      <th>monthly_sales</th>\n",
       "      <th>price</th>\n",
       "      <th>price_ave</th>\n",
       "      <th>comments</th>\n",
       "    </tr>\n",
       "    <tr>\n",
       "      <th>goodsID</th>\n",
       "      <th></th>\n",
       "      <th></th>\n",
       "      <th></th>\n",
       "      <th></th>\n",
       "      <th></th>\n",
       "      <th></th>\n",
       "      <th></th>\n",
       "      <th></th>\n",
       "    </tr>\n",
       "  </thead>\n",
       "  <tbody>\n",
       "    <tr>\n",
       "      <th>525290382664</th>\n",
       "      <td>【天猫超市】舒可曼白砂糖1000g 一级白糖砂糖调味品烹饪大包装</td>\n",
       "      <td>http://detail.tmall.com/item.htm?id=5252903826...</td>\n",
       "      <td>天猫超市</td>\n",
       "      <td>http://store.taobao.com/search.htm?user_number...</td>\n",
       "      <td>4489</td>\n",
       "      <td>25.8</td>\n",
       "      <td>12.90元/500g</td>\n",
       "      <td>2294</td>\n",
       "    </tr>\n",
       "    <tr>\n",
       "      <th>536613533939</th>\n",
       "      <td>阿鹏哥白砂糖8斤烘焙原料手工甘蔗中颗细砂糖袋4000g包邮白糖批发</td>\n",
       "      <td>http://detail.tmall.com/item.htm?id=5366135339...</td>\n",
       "      <td>特鹏食品专营店</td>\n",
       "      <td>http://store.taobao.com/search.htm?user_number...</td>\n",
       "      <td>963</td>\n",
       "      <td>39.2</td>\n",
       "      <td>4.90元/500g</td>\n",
       "      <td>863</td>\n",
       "    </tr>\n",
       "    <tr>\n",
       "      <th>537815368957</th>\n",
       "      <td>【天猫超市】SUGARMAN/舒可曼一级白砂糖1000g*2包装白糖烹饪调味</td>\n",
       "      <td>http://detail.tmall.com/item.htm?id=5378153689...</td>\n",
       "      <td>天猫超市</td>\n",
       "      <td>http://store.taobao.com/search.htm?user_number...</td>\n",
       "      <td>677</td>\n",
       "      <td>26.8</td>\n",
       "      <td>6.23元/500g</td>\n",
       "      <td>294</td>\n",
       "    </tr>\n",
       "    <tr>\n",
       "      <th>36005505455</th>\n",
       "      <td>蜜福堂木糖醇食品 木糖醇代糖 无糖食品烘焙蛋糕点饼干白砂糖500g</td>\n",
       "      <td>http://detail.tmall.com/item.htm?id=3600550545...</td>\n",
       "      <td>美联食品专营店</td>\n",
       "      <td>http://store.taobao.com/search.htm?user_number...</td>\n",
       "      <td>311</td>\n",
       "      <td>28.0</td>\n",
       "      <td>28.00元/500g</td>\n",
       "      <td>2805</td>\n",
       "    </tr>\n",
       "    <tr>\n",
       "      <th>41323698923</th>\n",
       "      <td>【天猫超市】川崎元贞糖500g无糖食品烘焙代糖替代木糖醇白砂糖</td>\n",
       "      <td>http://detail.tmall.com/item.htm?id=4132369892...</td>\n",
       "      <td>天猫超市</td>\n",
       "      <td>http://store.taobao.com/search.htm?user_number...</td>\n",
       "      <td>250</td>\n",
       "      <td>29.0</td>\n",
       "      <td>29.00元/500g</td>\n",
       "      <td>463</td>\n",
       "    </tr>\n",
       "  </tbody>\n",
       "</table>\n",
       "</div>"
      ],
      "text/plain": [
       "                                           goodsName  \\\n",
       "goodsID                                                \n",
       "525290382664        【天猫超市】舒可曼白砂糖1000g 一级白糖砂糖调味品烹饪大包装   \n",
       "536613533939       阿鹏哥白砂糖8斤烘焙原料手工甘蔗中颗细砂糖袋4000g包邮白糖批发   \n",
       "537815368957  【天猫超市】SUGARMAN/舒可曼一级白砂糖1000g*2包装白糖烹饪调味   \n",
       "36005505455        蜜福堂木糖醇食品 木糖醇代糖 无糖食品烘焙蛋糕点饼干白砂糖500g   \n",
       "41323698923          【天猫超市】川崎元贞糖500g无糖食品烘焙代糖替代木糖醇白砂糖   \n",
       "\n",
       "                                                       goodsURL shopName  \\\n",
       "goodsID                                                                    \n",
       "525290382664  http://detail.tmall.com/item.htm?id=5252903826...     天猫超市   \n",
       "536613533939  http://detail.tmall.com/item.htm?id=5366135339...  特鹏食品专营店   \n",
       "537815368957  http://detail.tmall.com/item.htm?id=5378153689...     天猫超市   \n",
       "36005505455   http://detail.tmall.com/item.htm?id=3600550545...  美联食品专营店   \n",
       "41323698923   http://detail.tmall.com/item.htm?id=4132369892...     天猫超市   \n",
       "\n",
       "                                                        shopURL  \\\n",
       "goodsID                                                           \n",
       "525290382664  http://store.taobao.com/search.htm?user_number...   \n",
       "536613533939  http://store.taobao.com/search.htm?user_number...   \n",
       "537815368957  http://store.taobao.com/search.htm?user_number...   \n",
       "36005505455   http://store.taobao.com/search.htm?user_number...   \n",
       "41323698923   http://store.taobao.com/search.htm?user_number...   \n",
       "\n",
       "              monthly_sales  price    price_ave  comments  \n",
       "goodsID                                                    \n",
       "525290382664           4489   25.8  12.90元/500g      2294  \n",
       "536613533939            963   39.2   4.90元/500g       863  \n",
       "537815368957            677   26.8   6.23元/500g       294  \n",
       "36005505455             311   28.0  28.00元/500g      2805  \n",
       "41323698923             250   29.0  29.00元/500g       463  "
      ]
     },
     "execution_count": 81,
     "metadata": {},
     "output_type": "execute_result"
    }
   ],
   "source": [
    "# 布尔索引\n",
    "df[df['price']>25]"
   ]
  },
  {
   "cell_type": "markdown",
   "metadata": {},
   "source": [
    "### 基本运算"
   ]
  },
  {
   "cell_type": "code",
   "execution_count": 82,
   "metadata": {},
   "outputs": [
    {
     "data": {
      "text/html": [
       "<div>\n",
       "<table border=\"1\" class=\"dataframe\">\n",
       "  <thead>\n",
       "    <tr style=\"text-align: right;\">\n",
       "      <th></th>\n",
       "      <th>monthly_sales</th>\n",
       "      <th>price</th>\n",
       "      <th>comments</th>\n",
       "    </tr>\n",
       "  </thead>\n",
       "  <tbody>\n",
       "    <tr>\n",
       "      <th>count</th>\n",
       "      <td>60.000000</td>\n",
       "      <td>60.000000</td>\n",
       "      <td>60.000000</td>\n",
       "    </tr>\n",
       "    <tr>\n",
       "      <th>mean</th>\n",
       "      <td>2939.466667</td>\n",
       "      <td>12.935000</td>\n",
       "      <td>3247.650000</td>\n",
       "    </tr>\n",
       "    <tr>\n",
       "      <th>std</th>\n",
       "      <td>6491.085090</td>\n",
       "      <td>7.224437</td>\n",
       "      <td>5978.098254</td>\n",
       "    </tr>\n",
       "    <tr>\n",
       "      <th>min</th>\n",
       "      <td>250.000000</td>\n",
       "      <td>5.800000</td>\n",
       "      <td>83.000000</td>\n",
       "    </tr>\n",
       "    <tr>\n",
       "      <th>25%</th>\n",
       "      <td>571.250000</td>\n",
       "      <td>7.000000</td>\n",
       "      <td>675.250000</td>\n",
       "    </tr>\n",
       "    <tr>\n",
       "      <th>50%</th>\n",
       "      <td>1134.500000</td>\n",
       "      <td>10.200000</td>\n",
       "      <td>1561.500000</td>\n",
       "    </tr>\n",
       "    <tr>\n",
       "      <th>75%</th>\n",
       "      <td>2141.250000</td>\n",
       "      <td>16.250000</td>\n",
       "      <td>2832.000000</td>\n",
       "    </tr>\n",
       "    <tr>\n",
       "      <th>max</th>\n",
       "      <td>42000.000000</td>\n",
       "      <td>39.200000</td>\n",
       "      <td>38000.000000</td>\n",
       "    </tr>\n",
       "  </tbody>\n",
       "</table>\n",
       "</div>"
      ],
      "text/plain": [
       "       monthly_sales      price      comments\n",
       "count      60.000000  60.000000     60.000000\n",
       "mean     2939.466667  12.935000   3247.650000\n",
       "std      6491.085090   7.224437   5978.098254\n",
       "min       250.000000   5.800000     83.000000\n",
       "25%       571.250000   7.000000    675.250000\n",
       "50%      1134.500000  10.200000   1561.500000\n",
       "75%      2141.250000  16.250000   2832.000000\n",
       "max     42000.000000  39.200000  38000.000000"
      ]
     },
     "execution_count": 82,
     "metadata": {},
     "output_type": "execute_result"
    }
   ],
   "source": [
    "df.describe()"
   ]
  },
  {
   "cell_type": "code",
   "execution_count": 83,
   "metadata": {},
   "outputs": [
    {
     "data": {
      "text/plain": [
       "monthly_sales    2939.466667\n",
       "price              12.935000\n",
       "comments         3247.650000\n",
       "dtype: float64"
      ]
     },
     "execution_count": 83,
     "metadata": {},
     "output_type": "execute_result"
    }
   ],
   "source": [
    "df.mean()"
   ]
  },
  {
   "cell_type": "code",
   "execution_count": 84,
   "metadata": {},
   "outputs": [
    {
     "data": {
      "text/plain": [
       "price              12.935000\n",
       "monthly_sales    2939.466667\n",
       "dtype: float64"
      ]
     },
     "execution_count": 84,
     "metadata": {},
     "output_type": "execute_result"
    }
   ],
   "source": [
    "np.mean(df[['price','monthly_sales']])"
   ]
  },
  {
   "cell_type": "markdown",
   "metadata": {},
   "source": [
    "### 基本函数"
   ]
  },
  {
   "cell_type": "code",
   "execution_count": 85,
   "metadata": {},
   "outputs": [
    {
     "data": {
      "text/html": [
       "<div>\n",
       "<table border=\"1\" class=\"dataframe\">\n",
       "  <thead>\n",
       "    <tr style=\"text-align: right;\">\n",
       "      <th></th>\n",
       "      <th>goodsName</th>\n",
       "      <th>goodsURL</th>\n",
       "      <th>shopName</th>\n",
       "      <th>shopURL</th>\n",
       "      <th>monthly_sales</th>\n",
       "      <th>price</th>\n",
       "      <th>price_ave</th>\n",
       "      <th>comments</th>\n",
       "    </tr>\n",
       "    <tr>\n",
       "      <th>goodsID</th>\n",
       "      <th></th>\n",
       "      <th></th>\n",
       "      <th></th>\n",
       "      <th></th>\n",
       "      <th></th>\n",
       "      <th></th>\n",
       "      <th></th>\n",
       "      <th></th>\n",
       "    </tr>\n",
       "  </thead>\n",
       "  <tbody>\n",
       "    <tr>\n",
       "      <th>15602091891</th>\n",
       "      <td>【天猫超市】太古优级白砂糖 300g/袋  食用糖 甜蜜滋味 健康美丽</td>\n",
       "      <td>http://detail.tmall.com/item.htm?id=1560209189...</td>\n",
       "      <td>天猫超市</td>\n",
       "      <td>http://store.taobao.com/search.htm?user_number...</td>\n",
       "      <td>1545</td>\n",
       "      <td>5.8</td>\n",
       "      <td>9.67元/500g</td>\n",
       "      <td>1346</td>\n",
       "    </tr>\n",
       "    <tr>\n",
       "      <th>41029108722</th>\n",
       "      <td>【天猫超市】福临门  优质白砂糖 405g/袋   洁白纯净 中粮出品</td>\n",
       "      <td>http://detail.tmall.com/item.htm?id=4102910872...</td>\n",
       "      <td>天猫超市</td>\n",
       "      <td>http://store.taobao.com/search.htm?user_number...</td>\n",
       "      <td>791</td>\n",
       "      <td>5.9</td>\n",
       "      <td>18.55元/500g</td>\n",
       "      <td>2619</td>\n",
       "    </tr>\n",
       "    <tr>\n",
       "      <th>40136006635</th>\n",
       "      <td>圣家优质细砂糖做面包diy蛋糕幼砂糖白砂糖烘焙原料原装200g</td>\n",
       "      <td>http://detail.tmall.com/item.htm?id=4013600663...</td>\n",
       "      <td>宏河圣齐食品专营店</td>\n",
       "      <td>http://store.taobao.com/search.htm?user_number...</td>\n",
       "      <td>906</td>\n",
       "      <td>5.9</td>\n",
       "      <td>14.75元/500g</td>\n",
       "      <td>6963</td>\n",
       "    </tr>\n",
       "    <tr>\n",
       "      <th>523015597397</th>\n",
       "      <td>可可西厨 大卫贝克 优质细砂糖 白砂糖 烘焙用糖 400g</td>\n",
       "      <td>http://detail.tmall.com/item.htm?id=5230155973...</td>\n",
       "      <td>可可西厨食品专营店</td>\n",
       "      <td>http://store.taobao.com/search.htm?user_number...</td>\n",
       "      <td>1187</td>\n",
       "      <td>6.4</td>\n",
       "      <td>8.00元/500g</td>\n",
       "      <td>2611</td>\n",
       "    </tr>\n",
       "    <tr>\n",
       "      <th>37369322311</th>\n",
       "      <td>烘焙原料 舒可曼糖霜 糖粉细砂糖 蛋糕面包饼干装饰原装糖粉250g</td>\n",
       "      <td>http://detail.tmall.com/item.htm?id=3736932231...</td>\n",
       "      <td>芝选食品专营店</td>\n",
       "      <td>http://store.taobao.com/search.htm?user_number...</td>\n",
       "      <td>264</td>\n",
       "      <td>6.5</td>\n",
       "      <td>13.00元/500g</td>\n",
       "      <td>810</td>\n",
       "    </tr>\n",
       "  </tbody>\n",
       "</table>\n",
       "</div>"
      ],
      "text/plain": [
       "                                        goodsName  \\\n",
       "goodsID                                             \n",
       "15602091891   【天猫超市】太古优级白砂糖 300g/袋  食用糖 甜蜜滋味 健康美丽   \n",
       "41029108722   【天猫超市】福临门  优质白砂糖 405g/袋   洁白纯净 中粮出品   \n",
       "40136006635       圣家优质细砂糖做面包diy蛋糕幼砂糖白砂糖烘焙原料原装200g   \n",
       "523015597397        可可西厨 大卫贝克 优质细砂糖 白砂糖 烘焙用糖 400g   \n",
       "37369322311     烘焙原料 舒可曼糖霜 糖粉细砂糖 蛋糕面包饼干装饰原装糖粉250g   \n",
       "\n",
       "                                                       goodsURL   shopName  \\\n",
       "goodsID                                                                      \n",
       "15602091891   http://detail.tmall.com/item.htm?id=1560209189...       天猫超市   \n",
       "41029108722   http://detail.tmall.com/item.htm?id=4102910872...       天猫超市   \n",
       "40136006635   http://detail.tmall.com/item.htm?id=4013600663...  宏河圣齐食品专营店   \n",
       "523015597397  http://detail.tmall.com/item.htm?id=5230155973...  可可西厨食品专营店   \n",
       "37369322311   http://detail.tmall.com/item.htm?id=3736932231...    芝选食品专营店   \n",
       "\n",
       "                                                        shopURL  \\\n",
       "goodsID                                                           \n",
       "15602091891   http://store.taobao.com/search.htm?user_number...   \n",
       "41029108722   http://store.taobao.com/search.htm?user_number...   \n",
       "40136006635   http://store.taobao.com/search.htm?user_number...   \n",
       "523015597397  http://store.taobao.com/search.htm?user_number...   \n",
       "37369322311   http://store.taobao.com/search.htm?user_number...   \n",
       "\n",
       "              monthly_sales  price    price_ave  comments  \n",
       "goodsID                                                    \n",
       "15602091891            1545    5.8   9.67元/500g      1346  \n",
       "41029108722             791    5.9  18.55元/500g      2619  \n",
       "40136006635             906    5.9  14.75元/500g      6963  \n",
       "523015597397           1187    6.4   8.00元/500g      2611  \n",
       "37369322311             264    6.5  13.00元/500g       810  "
      ]
     },
     "execution_count": 85,
     "metadata": {},
     "output_type": "execute_result"
    }
   ],
   "source": [
    "# 排序\n",
    "# 升序\n",
    "df.sort_values(['price','monthly_sales']).head()"
   ]
  },
  {
   "cell_type": "code",
   "execution_count": 86,
   "metadata": {},
   "outputs": [
    {
     "data": {
      "text/html": [
       "<div>\n",
       "<table border=\"1\" class=\"dataframe\">\n",
       "  <thead>\n",
       "    <tr style=\"text-align: right;\">\n",
       "      <th></th>\n",
       "      <th>goodsName</th>\n",
       "      <th>goodsURL</th>\n",
       "      <th>shopName</th>\n",
       "      <th>shopURL</th>\n",
       "      <th>monthly_sales</th>\n",
       "      <th>price</th>\n",
       "      <th>price_ave</th>\n",
       "      <th>comments</th>\n",
       "    </tr>\n",
       "    <tr>\n",
       "      <th>goodsID</th>\n",
       "      <th></th>\n",
       "      <th></th>\n",
       "      <th></th>\n",
       "      <th></th>\n",
       "      <th></th>\n",
       "      <th></th>\n",
       "      <th></th>\n",
       "      <th></th>\n",
       "    </tr>\n",
       "  </thead>\n",
       "  <tbody>\n",
       "    <tr>\n",
       "      <th>536613533939</th>\n",
       "      <td>阿鹏哥白砂糖8斤烘焙原料手工甘蔗中颗细砂糖袋4000g包邮白糖批发</td>\n",
       "      <td>http://detail.tmall.com/item.htm?id=5366135339...</td>\n",
       "      <td>特鹏食品专营店</td>\n",
       "      <td>http://store.taobao.com/search.htm?user_number...</td>\n",
       "      <td>963</td>\n",
       "      <td>39.2</td>\n",
       "      <td>4.90元/500g</td>\n",
       "      <td>863</td>\n",
       "    </tr>\n",
       "    <tr>\n",
       "      <th>41323698923</th>\n",
       "      <td>【天猫超市】川崎元贞糖500g无糖食品烘焙代糖替代木糖醇白砂糖</td>\n",
       "      <td>http://detail.tmall.com/item.htm?id=4132369892...</td>\n",
       "      <td>天猫超市</td>\n",
       "      <td>http://store.taobao.com/search.htm?user_number...</td>\n",
       "      <td>250</td>\n",
       "      <td>29.0</td>\n",
       "      <td>29.00元/500g</td>\n",
       "      <td>463</td>\n",
       "    </tr>\n",
       "    <tr>\n",
       "      <th>36005505455</th>\n",
       "      <td>蜜福堂木糖醇食品 木糖醇代糖 无糖食品烘焙蛋糕点饼干白砂糖500g</td>\n",
       "      <td>http://detail.tmall.com/item.htm?id=3600550545...</td>\n",
       "      <td>美联食品专营店</td>\n",
       "      <td>http://store.taobao.com/search.htm?user_number...</td>\n",
       "      <td>311</td>\n",
       "      <td>28.0</td>\n",
       "      <td>28.00元/500g</td>\n",
       "      <td>2805</td>\n",
       "    </tr>\n",
       "    <tr>\n",
       "      <th>537815368957</th>\n",
       "      <td>【天猫超市】SUGARMAN/舒可曼一级白砂糖1000g*2包装白糖烹饪调味</td>\n",
       "      <td>http://detail.tmall.com/item.htm?id=5378153689...</td>\n",
       "      <td>天猫超市</td>\n",
       "      <td>http://store.taobao.com/search.htm?user_number...</td>\n",
       "      <td>677</td>\n",
       "      <td>26.8</td>\n",
       "      <td>6.23元/500g</td>\n",
       "      <td>294</td>\n",
       "    </tr>\n",
       "    <tr>\n",
       "      <th>525290382664</th>\n",
       "      <td>【天猫超市】舒可曼白砂糖1000g 一级白糖砂糖调味品烹饪大包装</td>\n",
       "      <td>http://detail.tmall.com/item.htm?id=5252903826...</td>\n",
       "      <td>天猫超市</td>\n",
       "      <td>http://store.taobao.com/search.htm?user_number...</td>\n",
       "      <td>4489</td>\n",
       "      <td>25.8</td>\n",
       "      <td>12.90元/500g</td>\n",
       "      <td>2294</td>\n",
       "    </tr>\n",
       "  </tbody>\n",
       "</table>\n",
       "</div>"
      ],
      "text/plain": [
       "                                           goodsName  \\\n",
       "goodsID                                                \n",
       "536613533939       阿鹏哥白砂糖8斤烘焙原料手工甘蔗中颗细砂糖袋4000g包邮白糖批发   \n",
       "41323698923          【天猫超市】川崎元贞糖500g无糖食品烘焙代糖替代木糖醇白砂糖   \n",
       "36005505455        蜜福堂木糖醇食品 木糖醇代糖 无糖食品烘焙蛋糕点饼干白砂糖500g   \n",
       "537815368957  【天猫超市】SUGARMAN/舒可曼一级白砂糖1000g*2包装白糖烹饪调味   \n",
       "525290382664        【天猫超市】舒可曼白砂糖1000g 一级白糖砂糖调味品烹饪大包装   \n",
       "\n",
       "                                                       goodsURL shopName  \\\n",
       "goodsID                                                                    \n",
       "536613533939  http://detail.tmall.com/item.htm?id=5366135339...  特鹏食品专营店   \n",
       "41323698923   http://detail.tmall.com/item.htm?id=4132369892...     天猫超市   \n",
       "36005505455   http://detail.tmall.com/item.htm?id=3600550545...  美联食品专营店   \n",
       "537815368957  http://detail.tmall.com/item.htm?id=5378153689...     天猫超市   \n",
       "525290382664  http://detail.tmall.com/item.htm?id=5252903826...     天猫超市   \n",
       "\n",
       "                                                        shopURL  \\\n",
       "goodsID                                                           \n",
       "536613533939  http://store.taobao.com/search.htm?user_number...   \n",
       "41323698923   http://store.taobao.com/search.htm?user_number...   \n",
       "36005505455   http://store.taobao.com/search.htm?user_number...   \n",
       "537815368957  http://store.taobao.com/search.htm?user_number...   \n",
       "525290382664  http://store.taobao.com/search.htm?user_number...   \n",
       "\n",
       "              monthly_sales  price    price_ave  comments  \n",
       "goodsID                                                    \n",
       "536613533939            963   39.2   4.90元/500g       863  \n",
       "41323698923             250   29.0  29.00元/500g       463  \n",
       "36005505455             311   28.0  28.00元/500g      2805  \n",
       "537815368957            677   26.8   6.23元/500g       294  \n",
       "525290382664           4489   25.8  12.90元/500g      2294  "
      ]
     },
     "execution_count": 86,
     "metadata": {},
     "output_type": "execute_result"
    }
   ],
   "source": [
    "# 降序\n",
    "df.sort_values(['price','monthly_sales'], ascending=False).head()"
   ]
  },
  {
   "cell_type": "code",
   "execution_count": 87,
   "metadata": {},
   "outputs": [
    {
     "data": {
      "text/html": [
       "<div>\n",
       "<table border=\"1\" class=\"dataframe\">\n",
       "  <thead>\n",
       "    <tr style=\"text-align: right;\">\n",
       "      <th></th>\n",
       "      <th>goodsName</th>\n",
       "      <th>goodsURL</th>\n",
       "      <th>shopName</th>\n",
       "      <th>shopURL</th>\n",
       "      <th>monthly_sales</th>\n",
       "      <th>price</th>\n",
       "      <th>price_ave</th>\n",
       "      <th>comments</th>\n",
       "    </tr>\n",
       "    <tr>\n",
       "      <th>goodsID</th>\n",
       "      <th></th>\n",
       "      <th></th>\n",
       "      <th></th>\n",
       "      <th></th>\n",
       "      <th></th>\n",
       "      <th></th>\n",
       "      <th></th>\n",
       "      <th></th>\n",
       "    </tr>\n",
       "  </thead>\n",
       "  <tbody>\n",
       "    <tr>\n",
       "      <th>14985545685</th>\n",
       "      <td>【天猫超市】舒可曼纯正白砂糖400g碳化工艺细白糖干爽带盖易保存</td>\n",
       "      <td>http://detail.tmall.com/item.htm?id=1498554568...</td>\n",
       "      <td>天猫超市</td>\n",
       "      <td>http://store.taobao.com/search.htm?user_number...</td>\n",
       "      <td>42000</td>\n",
       "      <td>6.6</td>\n",
       "      <td>6.19元/500g</td>\n",
       "      <td>38000</td>\n",
       "    </tr>\n",
       "    <tr>\n",
       "      <th>44466463444</th>\n",
       "      <td>【巧厨烘焙 】展艺精制白砂糖 幼砂糖西点细砂糖 家用调味品 400g</td>\n",
       "      <td>http://detail.tmall.com/item.htm?id=4446646344...</td>\n",
       "      <td>巧厨食品专营店</td>\n",
       "      <td>http://store.taobao.com/search.htm?user_number...</td>\n",
       "      <td>25000</td>\n",
       "      <td>7.5</td>\n",
       "      <td>9.38元/500g</td>\n",
       "      <td>26000</td>\n",
       "    </tr>\n",
       "    <tr>\n",
       "      <th>15918515574</th>\n",
       "      <td>【天猫超市】舒可曼纯正白砂糖800g大包装碳化糖细白糖细砂幼砂糖</td>\n",
       "      <td>http://detail.tmall.com/item.htm?id=1591851557...</td>\n",
       "      <td>天猫超市</td>\n",
       "      <td>http://store.taobao.com/search.htm?user_number...</td>\n",
       "      <td>17000</td>\n",
       "      <td>12.5</td>\n",
       "      <td>7.82元/500g</td>\n",
       "      <td>11000</td>\n",
       "    </tr>\n",
       "  </tbody>\n",
       "</table>\n",
       "</div>"
      ],
      "text/plain": [
       "                                      goodsName  \\\n",
       "goodsID                                           \n",
       "14985545685    【天猫超市】舒可曼纯正白砂糖400g碳化工艺细白糖干爽带盖易保存   \n",
       "44466463444  【巧厨烘焙 】展艺精制白砂糖 幼砂糖西点细砂糖 家用调味品 400g   \n",
       "15918515574    【天猫超市】舒可曼纯正白砂糖800g大包装碳化糖细白糖细砂幼砂糖   \n",
       "\n",
       "                                                      goodsURL shopName  \\\n",
       "goodsID                                                                   \n",
       "14985545685  http://detail.tmall.com/item.htm?id=1498554568...     天猫超市   \n",
       "44466463444  http://detail.tmall.com/item.htm?id=4446646344...  巧厨食品专营店   \n",
       "15918515574  http://detail.tmall.com/item.htm?id=1591851557...     天猫超市   \n",
       "\n",
       "                                                       shopURL  monthly_sales  \\\n",
       "goodsID                                                                         \n",
       "14985545685  http://store.taobao.com/search.htm?user_number...          42000   \n",
       "44466463444  http://store.taobao.com/search.htm?user_number...          25000   \n",
       "15918515574  http://store.taobao.com/search.htm?user_number...          17000   \n",
       "\n",
       "             price   price_ave  comments  \n",
       "goodsID                                   \n",
       "14985545685    6.6  6.19元/500g     38000  \n",
       "44466463444    7.5  9.38元/500g     26000  \n",
       "15918515574   12.5  7.82元/500g     11000  "
      ]
     },
     "execution_count": 87,
     "metadata": {},
     "output_type": "execute_result"
    }
   ],
   "source": [
    "# 头\n",
    "df.head(3)"
   ]
  },
  {
   "cell_type": "code",
   "execution_count": 88,
   "metadata": {},
   "outputs": [
    {
     "data": {
      "text/html": [
       "<div>\n",
       "<table border=\"1\" class=\"dataframe\">\n",
       "  <thead>\n",
       "    <tr style=\"text-align: right;\">\n",
       "      <th></th>\n",
       "      <th>goodsName</th>\n",
       "      <th>goodsURL</th>\n",
       "      <th>shopName</th>\n",
       "      <th>shopURL</th>\n",
       "      <th>monthly_sales</th>\n",
       "      <th>price</th>\n",
       "      <th>price_ave</th>\n",
       "      <th>comments</th>\n",
       "    </tr>\n",
       "    <tr>\n",
       "      <th>goodsID</th>\n",
       "      <th></th>\n",
       "      <th></th>\n",
       "      <th></th>\n",
       "      <th></th>\n",
       "      <th></th>\n",
       "      <th></th>\n",
       "      <th></th>\n",
       "      <th></th>\n",
       "    </tr>\n",
       "  </thead>\n",
       "  <tbody>\n",
       "    <tr>\n",
       "      <th>37369322311</th>\n",
       "      <td>烘焙原料 舒可曼糖霜 糖粉细砂糖 蛋糕面包饼干装饰原装糖粉250g</td>\n",
       "      <td>http://detail.tmall.com/item.htm?id=3736932231...</td>\n",
       "      <td>芝选食品专营店</td>\n",
       "      <td>http://store.taobao.com/search.htm?user_number...</td>\n",
       "      <td>264</td>\n",
       "      <td>6.5</td>\n",
       "      <td>13.00元/500g</td>\n",
       "      <td>810</td>\n",
       "    </tr>\n",
       "    <tr>\n",
       "      <th>39998369382</th>\n",
       "      <td>亿龙源优质一级白砂糖1250g 精制烘焙细糖白糖沙糖大袋装包邮批发</td>\n",
       "      <td>http://detail.tmall.com/item.htm?id=3999836938...</td>\n",
       "      <td>亿龙源旗舰店</td>\n",
       "      <td>http://store.taobao.com/search.htm?user_number...</td>\n",
       "      <td>257</td>\n",
       "      <td>18.8</td>\n",
       "      <td>7.52元/500g</td>\n",
       "      <td>654</td>\n",
       "    </tr>\n",
       "    <tr>\n",
       "      <th>41323698923</th>\n",
       "      <td>【天猫超市】川崎元贞糖500g无糖食品烘焙代糖替代木糖醇白砂糖</td>\n",
       "      <td>http://detail.tmall.com/item.htm?id=4132369892...</td>\n",
       "      <td>天猫超市</td>\n",
       "      <td>http://store.taobao.com/search.htm?user_number...</td>\n",
       "      <td>250</td>\n",
       "      <td>29.0</td>\n",
       "      <td>29.00元/500g</td>\n",
       "      <td>463</td>\n",
       "    </tr>\n",
       "  </tbody>\n",
       "</table>\n",
       "</div>"
      ],
      "text/plain": [
       "                                     goodsName  \\\n",
       "goodsID                                          \n",
       "37369322311  烘焙原料 舒可曼糖霜 糖粉细砂糖 蛋糕面包饼干装饰原装糖粉250g   \n",
       "39998369382  亿龙源优质一级白砂糖1250g 精制烘焙细糖白糖沙糖大袋装包邮批发   \n",
       "41323698923    【天猫超市】川崎元贞糖500g无糖食品烘焙代糖替代木糖醇白砂糖   \n",
       "\n",
       "                                                      goodsURL shopName  \\\n",
       "goodsID                                                                   \n",
       "37369322311  http://detail.tmall.com/item.htm?id=3736932231...  芝选食品专营店   \n",
       "39998369382  http://detail.tmall.com/item.htm?id=3999836938...   亿龙源旗舰店   \n",
       "41323698923  http://detail.tmall.com/item.htm?id=4132369892...     天猫超市   \n",
       "\n",
       "                                                       shopURL  monthly_sales  \\\n",
       "goodsID                                                                         \n",
       "37369322311  http://store.taobao.com/search.htm?user_number...            264   \n",
       "39998369382  http://store.taobao.com/search.htm?user_number...            257   \n",
       "41323698923  http://store.taobao.com/search.htm?user_number...            250   \n",
       "\n",
       "             price    price_ave  comments  \n",
       "goodsID                                    \n",
       "37369322311    6.5  13.00元/500g       810  \n",
       "39998369382   18.8   7.52元/500g       654  \n",
       "41323698923   29.0  29.00元/500g       463  "
      ]
     },
     "execution_count": 88,
     "metadata": {},
     "output_type": "execute_result"
    }
   ],
   "source": [
    "# 尾\n",
    "df.tail(3)"
   ]
  },
  {
   "cell_type": "code",
   "execution_count": 89,
   "metadata": {},
   "outputs": [
    {
     "data": {
      "text/html": [
       "<div>\n",
       "<table border=\"1\" class=\"dataframe\">\n",
       "  <thead>\n",
       "    <tr style=\"text-align: right;\">\n",
       "      <th></th>\n",
       "      <th>goodsName</th>\n",
       "      <th>goodsURL</th>\n",
       "      <th>shopName</th>\n",
       "      <th>shopURL</th>\n",
       "      <th>monthly_sales</th>\n",
       "      <th>price</th>\n",
       "      <th>price_ave</th>\n",
       "      <th>comments</th>\n",
       "    </tr>\n",
       "    <tr>\n",
       "      <th>goodsID</th>\n",
       "      <th></th>\n",
       "      <th></th>\n",
       "      <th></th>\n",
       "      <th></th>\n",
       "      <th></th>\n",
       "      <th></th>\n",
       "      <th></th>\n",
       "      <th></th>\n",
       "    </tr>\n",
       "  </thead>\n",
       "  <tbody>\n",
       "    <tr>\n",
       "      <th>536613533939</th>\n",
       "      <td>阿鹏哥白砂糖8斤烘焙原料手工甘蔗中颗细砂糖袋4000g包邮白糖批发</td>\n",
       "      <td>http://detail.tmall.com/item.htm?id=5366135339...</td>\n",
       "      <td>特鹏食品专营店</td>\n",
       "      <td>http://store.taobao.com/search.htm?user_number...</td>\n",
       "      <td>963</td>\n",
       "      <td>39.2</td>\n",
       "      <td>4.90元/500g</td>\n",
       "      <td>863</td>\n",
       "    </tr>\n",
       "    <tr>\n",
       "      <th>41323698923</th>\n",
       "      <td>【天猫超市】川崎元贞糖500g无糖食品烘焙代糖替代木糖醇白砂糖</td>\n",
       "      <td>http://detail.tmall.com/item.htm?id=4132369892...</td>\n",
       "      <td>天猫超市</td>\n",
       "      <td>http://store.taobao.com/search.htm?user_number...</td>\n",
       "      <td>250</td>\n",
       "      <td>29.0</td>\n",
       "      <td>29.00元/500g</td>\n",
       "      <td>463</td>\n",
       "    </tr>\n",
       "    <tr>\n",
       "      <th>36005505455</th>\n",
       "      <td>蜜福堂木糖醇食品 木糖醇代糖 无糖食品烘焙蛋糕点饼干白砂糖500g</td>\n",
       "      <td>http://detail.tmall.com/item.htm?id=3600550545...</td>\n",
       "      <td>美联食品专营店</td>\n",
       "      <td>http://store.taobao.com/search.htm?user_number...</td>\n",
       "      <td>311</td>\n",
       "      <td>28.0</td>\n",
       "      <td>28.00元/500g</td>\n",
       "      <td>2805</td>\n",
       "    </tr>\n",
       "    <tr>\n",
       "      <th>537815368957</th>\n",
       "      <td>【天猫超市】SUGARMAN/舒可曼一级白砂糖1000g*2包装白糖烹饪调味</td>\n",
       "      <td>http://detail.tmall.com/item.htm?id=5378153689...</td>\n",
       "      <td>天猫超市</td>\n",
       "      <td>http://store.taobao.com/search.htm?user_number...</td>\n",
       "      <td>677</td>\n",
       "      <td>26.8</td>\n",
       "      <td>6.23元/500g</td>\n",
       "      <td>294</td>\n",
       "    </tr>\n",
       "    <tr>\n",
       "      <th>525290382664</th>\n",
       "      <td>【天猫超市】舒可曼白砂糖1000g 一级白糖砂糖调味品烹饪大包装</td>\n",
       "      <td>http://detail.tmall.com/item.htm?id=5252903826...</td>\n",
       "      <td>天猫超市</td>\n",
       "      <td>http://store.taobao.com/search.htm?user_number...</td>\n",
       "      <td>4489</td>\n",
       "      <td>25.8</td>\n",
       "      <td>12.90元/500g</td>\n",
       "      <td>2294</td>\n",
       "    </tr>\n",
       "  </tbody>\n",
       "</table>\n",
       "</div>"
      ],
      "text/plain": [
       "                                           goodsName  \\\n",
       "goodsID                                                \n",
       "536613533939       阿鹏哥白砂糖8斤烘焙原料手工甘蔗中颗细砂糖袋4000g包邮白糖批发   \n",
       "41323698923          【天猫超市】川崎元贞糖500g无糖食品烘焙代糖替代木糖醇白砂糖   \n",
       "36005505455        蜜福堂木糖醇食品 木糖醇代糖 无糖食品烘焙蛋糕点饼干白砂糖500g   \n",
       "537815368957  【天猫超市】SUGARMAN/舒可曼一级白砂糖1000g*2包装白糖烹饪调味   \n",
       "525290382664        【天猫超市】舒可曼白砂糖1000g 一级白糖砂糖调味品烹饪大包装   \n",
       "\n",
       "                                                       goodsURL shopName  \\\n",
       "goodsID                                                                    \n",
       "536613533939  http://detail.tmall.com/item.htm?id=5366135339...  特鹏食品专营店   \n",
       "41323698923   http://detail.tmall.com/item.htm?id=4132369892...     天猫超市   \n",
       "36005505455   http://detail.tmall.com/item.htm?id=3600550545...  美联食品专营店   \n",
       "537815368957  http://detail.tmall.com/item.htm?id=5378153689...     天猫超市   \n",
       "525290382664  http://detail.tmall.com/item.htm?id=5252903826...     天猫超市   \n",
       "\n",
       "                                                        shopURL  \\\n",
       "goodsID                                                           \n",
       "536613533939  http://store.taobao.com/search.htm?user_number...   \n",
       "41323698923   http://store.taobao.com/search.htm?user_number...   \n",
       "36005505455   http://store.taobao.com/search.htm?user_number...   \n",
       "537815368957  http://store.taobao.com/search.htm?user_number...   \n",
       "525290382664  http://store.taobao.com/search.htm?user_number...   \n",
       "\n",
       "              monthly_sales  price    price_ave  comments  \n",
       "goodsID                                                    \n",
       "536613533939            963   39.2   4.90元/500g       863  \n",
       "41323698923             250   29.0  29.00元/500g       463  \n",
       "36005505455             311   28.0  28.00元/500g      2805  \n",
       "537815368957            677   26.8   6.23元/500g       294  \n",
       "525290382664           4489   25.8  12.90元/500g      2294  "
      ]
     },
     "execution_count": 89,
     "metadata": {},
     "output_type": "execute_result"
    }
   ],
   "source": [
    "# sort+head\n",
    "df.nlargest(5,'price')"
   ]
  },
  {
   "cell_type": "code",
   "execution_count": 90,
   "metadata": {},
   "outputs": [
    {
     "data": {
      "text/html": [
       "<div>\n",
       "<table border=\"1\" class=\"dataframe\">\n",
       "  <thead>\n",
       "    <tr style=\"text-align: right;\">\n",
       "      <th></th>\n",
       "      <th>goodsName</th>\n",
       "      <th>goodsURL</th>\n",
       "      <th>shopName</th>\n",
       "      <th>shopURL</th>\n",
       "      <th>monthly_sales</th>\n",
       "      <th>price</th>\n",
       "      <th>price_ave</th>\n",
       "      <th>comments</th>\n",
       "    </tr>\n",
       "    <tr>\n",
       "      <th>goodsID</th>\n",
       "      <th></th>\n",
       "      <th></th>\n",
       "      <th></th>\n",
       "      <th></th>\n",
       "      <th></th>\n",
       "      <th></th>\n",
       "      <th></th>\n",
       "      <th></th>\n",
       "    </tr>\n",
       "  </thead>\n",
       "  <tbody>\n",
       "    <tr>\n",
       "      <th>540394892624</th>\n",
       "      <td>【天猫超市】红棉食糖一级白砂糖454g/袋*2碳化糖白糖粗砂糖</td>\n",
       "      <td>http://detail.tmall.com/item.htm?id=5403948926...</td>\n",
       "      <td>天猫超市</td>\n",
       "      <td>http://store.taobao.com/search.htm?user_number...</td>\n",
       "      <td>498</td>\n",
       "      <td>13.0</td>\n",
       "      <td>9.91元/500g</td>\n",
       "      <td>83</td>\n",
       "    </tr>\n",
       "    <tr>\n",
       "      <th>531223828362</th>\n",
       "      <td>【天猫超市】舒可曼优质白砂糖800g 细砂糖白糖面包饼干烘焙原料</td>\n",
       "      <td>http://detail.tmall.com/item.htm?id=5312238283...</td>\n",
       "      <td>天猫超市</td>\n",
       "      <td>http://store.taobao.com/search.htm?user_number...</td>\n",
       "      <td>473</td>\n",
       "      <td>24.9</td>\n",
       "      <td>15.57元/500g</td>\n",
       "      <td>188</td>\n",
       "    </tr>\n",
       "    <tr>\n",
       "      <th>531959709443</th>\n",
       "      <td>阳光美橙 冰糖 白冰糖400g单晶冰糖白砂糖煲汤炖粥泡茶辅料包邮</td>\n",
       "      <td>http://detail.tmall.com/item.htm?id=5319597094...</td>\n",
       "      <td>阳光美橙旗舰店</td>\n",
       "      <td>http://store.taobao.com/search.htm?user_number...</td>\n",
       "      <td>272</td>\n",
       "      <td>9.6</td>\n",
       "      <td>12.00元/500g</td>\n",
       "      <td>193</td>\n",
       "    </tr>\n",
       "    <tr>\n",
       "      <th>520249810226</th>\n",
       "      <td>烘焙原料 taikoo太古白砂糖 细砂糖 蛋糕面包饼干打发用 原装1kg</td>\n",
       "      <td>http://detail.tmall.com/item.htm?id=5202498102...</td>\n",
       "      <td>范美焙亲食品专营店</td>\n",
       "      <td>http://store.taobao.com/search.htm?user_number...</td>\n",
       "      <td>294</td>\n",
       "      <td>15.0</td>\n",
       "      <td>7.50元/500g</td>\n",
       "      <td>251</td>\n",
       "    </tr>\n",
       "  </tbody>\n",
       "</table>\n",
       "</div>"
      ],
      "text/plain": [
       "                                         goodsName  \\\n",
       "goodsID                                              \n",
       "540394892624       【天猫超市】红棉食糖一级白砂糖454g/袋*2碳化糖白糖粗砂糖   \n",
       "531223828362      【天猫超市】舒可曼优质白砂糖800g 细砂糖白糖面包饼干烘焙原料   \n",
       "531959709443      阳光美橙 冰糖 白冰糖400g单晶冰糖白砂糖煲汤炖粥泡茶辅料包邮   \n",
       "520249810226  烘焙原料 taikoo太古白砂糖 细砂糖 蛋糕面包饼干打发用 原装1kg   \n",
       "\n",
       "                                                       goodsURL   shopName  \\\n",
       "goodsID                                                                      \n",
       "540394892624  http://detail.tmall.com/item.htm?id=5403948926...       天猫超市   \n",
       "531223828362  http://detail.tmall.com/item.htm?id=5312238283...       天猫超市   \n",
       "531959709443  http://detail.tmall.com/item.htm?id=5319597094...    阳光美橙旗舰店   \n",
       "520249810226  http://detail.tmall.com/item.htm?id=5202498102...  范美焙亲食品专营店   \n",
       "\n",
       "                                                        shopURL  \\\n",
       "goodsID                                                           \n",
       "540394892624  http://store.taobao.com/search.htm?user_number...   \n",
       "531223828362  http://store.taobao.com/search.htm?user_number...   \n",
       "531959709443  http://store.taobao.com/search.htm?user_number...   \n",
       "520249810226  http://store.taobao.com/search.htm?user_number...   \n",
       "\n",
       "              monthly_sales  price    price_ave  comments  \n",
       "goodsID                                                    \n",
       "540394892624            498   13.0   9.91元/500g        83  \n",
       "531223828362            473   24.9  15.57元/500g       188  \n",
       "531959709443            272    9.6  12.00元/500g       193  \n",
       "520249810226            294   15.0   7.50元/500g       251  "
      ]
     },
     "execution_count": 90,
     "metadata": {},
     "output_type": "execute_result"
    }
   ],
   "source": [
    "# sort+tail\n",
    "df.nsmallest(4,'comments')"
   ]
  },
  {
   "cell_type": "code",
   "execution_count": 91,
   "metadata": {},
   "outputs": [
    {
     "data": {
      "text/plain": [
       "price               776.1\n",
       "monthly_sales    176368.0\n",
       "comments         194859.0\n",
       "dtype: float64"
      ]
     },
     "execution_count": 91,
     "metadata": {},
     "output_type": "execute_result"
    }
   ],
   "source": [
    "# apply方法\n",
    "# 按列操作\n",
    "df[['price','monthly_sales','comments']].apply(lambda x: sum(x))"
   ]
  },
  {
   "cell_type": "code",
   "execution_count": 92,
   "metadata": {},
   "outputs": [
    {
     "data": {
      "text/plain": [
       "goodsID\n",
       "14985545685    80006.6\n",
       "44466463444    51007.5\n",
       "15918515574    28012.5\n",
       "39863630205    19866.8\n",
       "43331131373     9832.0\n",
       "dtype: float64"
      ]
     },
     "execution_count": 92,
     "metadata": {},
     "output_type": "execute_result"
    }
   ],
   "source": [
    "# 按行apply\n",
    "df[['price','monthly_sales','comments']].apply(lambda x: sum(x), axis=1).head()"
   ]
  },
  {
   "cell_type": "markdown",
   "metadata": {},
   "source": [
    "## 作业\n",
    "\n",
    "### 要求\n",
    "1. 用numpy的随机数模块随机生成一个26*4的数组，数据范围是（0,1)，且服从卡方分布；选取其中大于0.5的全部数据；\n",
    "2. 把该数组转换成DataFrame，行索引为26个字母，列索引为'one','two','three','four'；取出按two排序前5位的行；\n",
    "3. 取出one列，并计算该列的和、中值和方差。\n",
    "\n",
    "### 提示\n",
    "1. 部分需要的函数不在Note里，请查询官方文档寻找合适的函数；\n",
    "2. 作业提交到GitHub上，并把链接提交到https://github.com/xmucpp/cpp_courses/issues/2 。\n"
   ]
  }
 ],
 "metadata": {
  "kernelspec": {
   "display_name": "Python 2",
   "language": "python",
   "name": "python2"
  },
  "language_info": {
   "codemirror_mode": {
    "name": "ipython",
    "version": 2
   },
   "file_extension": ".py",
   "mimetype": "text/x-python",
   "name": "python",
   "nbconvert_exporter": "python",
   "pygments_lexer": "ipython2",
   "version": "2.7.13"
  }
 },
 "nbformat": 4,
 "nbformat_minor": 2
}
